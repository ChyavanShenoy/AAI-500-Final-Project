{
  "cells": [
    {
      "cell_type": "markdown",
      "metadata": {
        "colab_type": "text",
        "id": "view-in-github"
      },
      "source": [
        "<a href=\"https://colab.research.google.com/github/ChyavanShenoy/AAI-500-Final-Project/blob/main/Project_final.ipynb\" target=\"_parent\"><img src=\"https://colab.research.google.com/assets/colab-badge.svg\" alt=\"Open In Colab\"/></a>"
      ]
    },
    {
      "cell_type": "code",
      "execution_count": 292,
      "metadata": {
        "id": "7nsiKs67JInL"
      },
      "outputs": [],
      "source": [
        "import pandas as pd\n",
        "import numpy as np\n",
        "from sklearn.model_selection import train_test_split\n",
        "from sklearn.preprocessing import StandardScaler, LabelEncoder\n",
        "# from sklearn.impute import SimpleImputer\n",
        "from sklearn.impute import KNNImputer\n",
        "from sklearn.linear_model import LogisticRegression\n",
        "from sklearn.ensemble import RandomForestClassifier, RandomForestRegressor\n",
        "from sklearn.tree import DecisionTreeClassifier, DecisionTreeRegressor\n",
        "import xgboost as xgb\n",
        "from sklearn.neural_network import MLPClassifier, MLPRegressor\n",
        "from sklearn.metrics import accuracy_score, classification_report, mean_squared_error, r2_score\n",
        "import joblib\n",
        "from imblearn.over_sampling import SMOTE\n",
        "import matplotlib.pyplot as plt\n",
        "from scipy.stats.mstats import winsorize"
      ]
    },
    {
      "cell_type": "code",
      "execution_count": 293,
      "metadata": {
        "colab": {
          "base_uri": "https://localhost:8080/",
          "height": 206
        },
        "id": "SOBK7GXlg7MZ",
        "outputId": "5f215e05-de24-49f5-d4dc-23fb90a96451"
      },
      "outputs": [
        {
          "data": {
            "text/html": [
              "<div>\n",
              "<style scoped>\n",
              "    .dataframe tbody tr th:only-of-type {\n",
              "        vertical-align: middle;\n",
              "    }\n",
              "\n",
              "    .dataframe tbody tr th {\n",
              "        vertical-align: top;\n",
              "    }\n",
              "\n",
              "    .dataframe thead th {\n",
              "        text-align: right;\n",
              "    }\n",
              "</style>\n",
              "<table border=\"1\" class=\"dataframe\">\n",
              "  <thead>\n",
              "    <tr style=\"text-align: right;\">\n",
              "      <th></th>\n",
              "      <th>StationId</th>\n",
              "      <th>Date</th>\n",
              "      <th>PM2.5</th>\n",
              "      <th>PM10</th>\n",
              "      <th>NO</th>\n",
              "      <th>NO2</th>\n",
              "      <th>NOx</th>\n",
              "      <th>NH3</th>\n",
              "      <th>CO</th>\n",
              "      <th>SO2</th>\n",
              "      <th>O3</th>\n",
              "      <th>Benzene</th>\n",
              "      <th>Toluene</th>\n",
              "      <th>Xylene</th>\n",
              "      <th>AQI</th>\n",
              "      <th>AQI_Bucket</th>\n",
              "    </tr>\n",
              "  </thead>\n",
              "  <tbody>\n",
              "    <tr>\n",
              "      <th>0</th>\n",
              "      <td>AP001</td>\n",
              "      <td>2017-11-24</td>\n",
              "      <td>71.36</td>\n",
              "      <td>115.75</td>\n",
              "      <td>1.75</td>\n",
              "      <td>20.65</td>\n",
              "      <td>12.40</td>\n",
              "      <td>12.19</td>\n",
              "      <td>0.10</td>\n",
              "      <td>10.76</td>\n",
              "      <td>109.26</td>\n",
              "      <td>0.17</td>\n",
              "      <td>5.92</td>\n",
              "      <td>0.10</td>\n",
              "      <td>NaN</td>\n",
              "      <td>NaN</td>\n",
              "    </tr>\n",
              "    <tr>\n",
              "      <th>1</th>\n",
              "      <td>AP001</td>\n",
              "      <td>2017-11-25</td>\n",
              "      <td>81.40</td>\n",
              "      <td>124.50</td>\n",
              "      <td>1.44</td>\n",
              "      <td>20.50</td>\n",
              "      <td>12.08</td>\n",
              "      <td>10.72</td>\n",
              "      <td>0.12</td>\n",
              "      <td>15.24</td>\n",
              "      <td>127.09</td>\n",
              "      <td>0.20</td>\n",
              "      <td>6.50</td>\n",
              "      <td>0.06</td>\n",
              "      <td>184.0</td>\n",
              "      <td>Moderate</td>\n",
              "    </tr>\n",
              "    <tr>\n",
              "      <th>2</th>\n",
              "      <td>AP001</td>\n",
              "      <td>2017-11-26</td>\n",
              "      <td>78.32</td>\n",
              "      <td>129.06</td>\n",
              "      <td>1.26</td>\n",
              "      <td>26.00</td>\n",
              "      <td>14.85</td>\n",
              "      <td>10.28</td>\n",
              "      <td>0.14</td>\n",
              "      <td>26.96</td>\n",
              "      <td>117.44</td>\n",
              "      <td>0.22</td>\n",
              "      <td>7.95</td>\n",
              "      <td>0.08</td>\n",
              "      <td>197.0</td>\n",
              "      <td>Moderate</td>\n",
              "    </tr>\n",
              "    <tr>\n",
              "      <th>3</th>\n",
              "      <td>AP001</td>\n",
              "      <td>2017-11-27</td>\n",
              "      <td>88.76</td>\n",
              "      <td>135.32</td>\n",
              "      <td>6.60</td>\n",
              "      <td>30.85</td>\n",
              "      <td>21.77</td>\n",
              "      <td>12.91</td>\n",
              "      <td>0.11</td>\n",
              "      <td>33.59</td>\n",
              "      <td>111.81</td>\n",
              "      <td>0.29</td>\n",
              "      <td>7.63</td>\n",
              "      <td>0.12</td>\n",
              "      <td>198.0</td>\n",
              "      <td>Moderate</td>\n",
              "    </tr>\n",
              "    <tr>\n",
              "      <th>4</th>\n",
              "      <td>AP001</td>\n",
              "      <td>2017-11-28</td>\n",
              "      <td>64.18</td>\n",
              "      <td>104.09</td>\n",
              "      <td>2.56</td>\n",
              "      <td>28.07</td>\n",
              "      <td>17.01</td>\n",
              "      <td>11.42</td>\n",
              "      <td>0.09</td>\n",
              "      <td>19.00</td>\n",
              "      <td>138.18</td>\n",
              "      <td>0.17</td>\n",
              "      <td>5.02</td>\n",
              "      <td>0.07</td>\n",
              "      <td>188.0</td>\n",
              "      <td>Moderate</td>\n",
              "    </tr>\n",
              "  </tbody>\n",
              "</table>\n",
              "</div>"
            ],
            "text/plain": [
              "  StationId        Date  PM2.5    PM10    NO    NO2    NOx    NH3    CO  \\\n",
              "0     AP001  2017-11-24  71.36  115.75  1.75  20.65  12.40  12.19  0.10   \n",
              "1     AP001  2017-11-25  81.40  124.50  1.44  20.50  12.08  10.72  0.12   \n",
              "2     AP001  2017-11-26  78.32  129.06  1.26  26.00  14.85  10.28  0.14   \n",
              "3     AP001  2017-11-27  88.76  135.32  6.60  30.85  21.77  12.91  0.11   \n",
              "4     AP001  2017-11-28  64.18  104.09  2.56  28.07  17.01  11.42  0.09   \n",
              "\n",
              "     SO2      O3  Benzene  Toluene  Xylene    AQI AQI_Bucket  \n",
              "0  10.76  109.26     0.17     5.92    0.10    NaN        NaN  \n",
              "1  15.24  127.09     0.20     6.50    0.06  184.0   Moderate  \n",
              "2  26.96  117.44     0.22     7.95    0.08  197.0   Moderate  \n",
              "3  33.59  111.81     0.29     7.63    0.12  198.0   Moderate  \n",
              "4  19.00  138.18     0.17     5.02    0.07  188.0   Moderate  "
            ]
          },
          "execution_count": 293,
          "metadata": {},
          "output_type": "execute_result"
        }
      ],
      "source": [
        "df = pd.read_csv('station_day.csv')\n",
        "df.head()"
      ]
    },
    {
      "cell_type": "code",
      "execution_count": 294,
      "metadata": {
        "colab": {
          "base_uri": "https://localhost:8080/"
        },
        "id": "strl1aXQJInQ",
        "outputId": "4bdbeabe-c332-4932-e60c-aa79309e4034"
      },
      "outputs": [
        {
          "data": {
            "text/html": [
              "<div>\n",
              "<style scoped>\n",
              "    .dataframe tbody tr th:only-of-type {\n",
              "        vertical-align: middle;\n",
              "    }\n",
              "\n",
              "    .dataframe tbody tr th {\n",
              "        vertical-align: top;\n",
              "    }\n",
              "\n",
              "    .dataframe thead th {\n",
              "        text-align: right;\n",
              "    }\n",
              "</style>\n",
              "<table border=\"1\" class=\"dataframe\">\n",
              "  <thead>\n",
              "    <tr style=\"text-align: right;\">\n",
              "      <th></th>\n",
              "      <th>PM2.5</th>\n",
              "      <th>PM10</th>\n",
              "      <th>NO</th>\n",
              "      <th>NO2</th>\n",
              "      <th>NOx</th>\n",
              "      <th>NH3</th>\n",
              "      <th>CO</th>\n",
              "      <th>SO2</th>\n",
              "      <th>O3</th>\n",
              "      <th>Benzene</th>\n",
              "      <th>Toluene</th>\n",
              "      <th>Xylene</th>\n",
              "      <th>AQI</th>\n",
              "    </tr>\n",
              "  </thead>\n",
              "  <tbody>\n",
              "    <tr>\n",
              "      <th>count</th>\n",
              "      <td>86410.000000</td>\n",
              "      <td>65329.000000</td>\n",
              "      <td>90929.000000</td>\n",
              "      <td>91488.000000</td>\n",
              "      <td>92535.000000</td>\n",
              "      <td>59930.000000</td>\n",
              "      <td>95037.000000</td>\n",
              "      <td>82831.000000</td>\n",
              "      <td>82467.000000</td>\n",
              "      <td>76580.000000</td>\n",
              "      <td>69333.000000</td>\n",
              "      <td>22898.000000</td>\n",
              "      <td>87025.000000</td>\n",
              "    </tr>\n",
              "    <tr>\n",
              "      <th>mean</th>\n",
              "      <td>80.272571</td>\n",
              "      <td>157.968427</td>\n",
              "      <td>23.123424</td>\n",
              "      <td>35.240760</td>\n",
              "      <td>41.195055</td>\n",
              "      <td>28.732875</td>\n",
              "      <td>1.605749</td>\n",
              "      <td>12.257634</td>\n",
              "      <td>38.134836</td>\n",
              "      <td>3.358029</td>\n",
              "      <td>15.345394</td>\n",
              "      <td>2.423446</td>\n",
              "      <td>179.749290</td>\n",
              "    </tr>\n",
              "    <tr>\n",
              "      <th>std</th>\n",
              "      <td>76.526403</td>\n",
              "      <td>123.418672</td>\n",
              "      <td>34.491019</td>\n",
              "      <td>29.510827</td>\n",
              "      <td>45.145976</td>\n",
              "      <td>24.897797</td>\n",
              "      <td>4.369578</td>\n",
              "      <td>12.984723</td>\n",
              "      <td>39.128004</td>\n",
              "      <td>11.156234</td>\n",
              "      <td>29.348587</td>\n",
              "      <td>6.472409</td>\n",
              "      <td>131.324339</td>\n",
              "    </tr>\n",
              "    <tr>\n",
              "      <th>min</th>\n",
              "      <td>0.020000</td>\n",
              "      <td>0.010000</td>\n",
              "      <td>0.010000</td>\n",
              "      <td>0.010000</td>\n",
              "      <td>0.000000</td>\n",
              "      <td>0.010000</td>\n",
              "      <td>0.000000</td>\n",
              "      <td>0.010000</td>\n",
              "      <td>0.010000</td>\n",
              "      <td>0.000000</td>\n",
              "      <td>0.000000</td>\n",
              "      <td>0.000000</td>\n",
              "      <td>8.000000</td>\n",
              "    </tr>\n",
              "    <tr>\n",
              "      <th>25%</th>\n",
              "      <td>31.880000</td>\n",
              "      <td>70.150000</td>\n",
              "      <td>4.840000</td>\n",
              "      <td>15.090000</td>\n",
              "      <td>13.970000</td>\n",
              "      <td>11.900000</td>\n",
              "      <td>0.530000</td>\n",
              "      <td>5.040000</td>\n",
              "      <td>18.895000</td>\n",
              "      <td>0.160000</td>\n",
              "      <td>0.690000</td>\n",
              "      <td>0.000000</td>\n",
              "      <td>86.000000</td>\n",
              "    </tr>\n",
              "    <tr>\n",
              "      <th>50%</th>\n",
              "      <td>55.950000</td>\n",
              "      <td>122.090000</td>\n",
              "      <td>10.290000</td>\n",
              "      <td>27.210000</td>\n",
              "      <td>26.660000</td>\n",
              "      <td>23.590000</td>\n",
              "      <td>0.910000</td>\n",
              "      <td>8.950000</td>\n",
              "      <td>30.840000</td>\n",
              "      <td>1.210000</td>\n",
              "      <td>4.330000</td>\n",
              "      <td>0.400000</td>\n",
              "      <td>132.000000</td>\n",
              "    </tr>\n",
              "    <tr>\n",
              "      <th>75%</th>\n",
              "      <td>99.920000</td>\n",
              "      <td>208.670000</td>\n",
              "      <td>24.980000</td>\n",
              "      <td>46.930000</td>\n",
              "      <td>50.500000</td>\n",
              "      <td>38.137500</td>\n",
              "      <td>1.450000</td>\n",
              "      <td>14.920000</td>\n",
              "      <td>47.140000</td>\n",
              "      <td>3.610000</td>\n",
              "      <td>17.510000</td>\n",
              "      <td>2.110000</td>\n",
              "      <td>254.000000</td>\n",
              "    </tr>\n",
              "    <tr>\n",
              "      <th>max</th>\n",
              "      <td>1000.000000</td>\n",
              "      <td>1000.000000</td>\n",
              "      <td>470.000000</td>\n",
              "      <td>448.050000</td>\n",
              "      <td>467.630000</td>\n",
              "      <td>418.900000</td>\n",
              "      <td>175.810000</td>\n",
              "      <td>195.650000</td>\n",
              "      <td>963.000000</td>\n",
              "      <td>455.030000</td>\n",
              "      <td>454.850000</td>\n",
              "      <td>170.370000</td>\n",
              "      <td>2049.000000</td>\n",
              "    </tr>\n",
              "  </tbody>\n",
              "</table>\n",
              "</div>"
            ],
            "text/plain": [
              "              PM2.5          PM10            NO           NO2           NOx  \\\n",
              "count  86410.000000  65329.000000  90929.000000  91488.000000  92535.000000   \n",
              "mean      80.272571    157.968427     23.123424     35.240760     41.195055   \n",
              "std       76.526403    123.418672     34.491019     29.510827     45.145976   \n",
              "min        0.020000      0.010000      0.010000      0.010000      0.000000   \n",
              "25%       31.880000     70.150000      4.840000     15.090000     13.970000   \n",
              "50%       55.950000    122.090000     10.290000     27.210000     26.660000   \n",
              "75%       99.920000    208.670000     24.980000     46.930000     50.500000   \n",
              "max     1000.000000   1000.000000    470.000000    448.050000    467.630000   \n",
              "\n",
              "                NH3            CO           SO2            O3       Benzene  \\\n",
              "count  59930.000000  95037.000000  82831.000000  82467.000000  76580.000000   \n",
              "mean      28.732875      1.605749     12.257634     38.134836      3.358029   \n",
              "std       24.897797      4.369578     12.984723     39.128004     11.156234   \n",
              "min        0.010000      0.000000      0.010000      0.010000      0.000000   \n",
              "25%       11.900000      0.530000      5.040000     18.895000      0.160000   \n",
              "50%       23.590000      0.910000      8.950000     30.840000      1.210000   \n",
              "75%       38.137500      1.450000     14.920000     47.140000      3.610000   \n",
              "max      418.900000    175.810000    195.650000    963.000000    455.030000   \n",
              "\n",
              "            Toluene        Xylene           AQI  \n",
              "count  69333.000000  22898.000000  87025.000000  \n",
              "mean      15.345394      2.423446    179.749290  \n",
              "std       29.348587      6.472409    131.324339  \n",
              "min        0.000000      0.000000      8.000000  \n",
              "25%        0.690000      0.000000     86.000000  \n",
              "50%        4.330000      0.400000    132.000000  \n",
              "75%       17.510000      2.110000    254.000000  \n",
              "max      454.850000    170.370000   2049.000000  "
            ]
          },
          "execution_count": 294,
          "metadata": {},
          "output_type": "execute_result"
        }
      ],
      "source": [
        "df.describe()"
      ]
    },
    {
      "cell_type": "code",
      "execution_count": 295,
      "metadata": {
        "id": "tlR9zytUJInR"
      },
      "outputs": [],
      "source": [
        "learning_vars = ['PM2.5', 'PM10', 'NO2', 'CO', 'SO2', 'O3']\n",
        "# learning_vars = ['PM2.5 AQI Value', 'NO2 AQI Value', 'Ozone AQI Value', 'CO AQI Value']\n",
        "target_classification = 'AQI_Bucket'\n",
        "# target_classification = 'AQI Category'\n",
        "target_regression = 'AQI'\n",
        "# target_regression = 'AQI Value'\n",
        "fix_columns = ['PM2.5', 'PM10', 'NO2', 'CO', 'SO2', 'O3', 'AQI']\n",
        "# fix_columns = ['PM2.5 AQI Value', 'NO2 AQI Value', 'Ozone AQI Value', 'CO AQI Value', 'AQI Value']"
      ]
    },
    {
      "cell_type": "code",
      "execution_count": 296,
      "metadata": {},
      "outputs": [],
      "source": [
        "# df['AQI'] = np.log1p(df['AQI'])"
      ]
    },
    {
      "cell_type": "code",
      "execution_count": 297,
      "metadata": {},
      "outputs": [],
      "source": [
        "# for var in learning_vars:\n",
        "#     df[var] = winsorize(df[var], limits=[0, 0.25])  # Cap top 5% of values"
      ]
    },
    {
      "cell_type": "code",
      "execution_count": 298,
      "metadata": {},
      "outputs": [],
      "source": [
        "# Q1 = df[learning_vars].quantile(0.25)\n",
        "# Q3 = df[learning_vars].quantile(0.75)\n",
        "# IQR = Q3 - Q1\n",
        "# df = df[~((df[learning_vars] < (Q1 - 1.5 * IQR)) | (df[learning_vars] > (Q3 + 1.5 * IQR))).any(axis=1)]\n"
      ]
    },
    {
      "cell_type": "code",
      "execution_count": 299,
      "metadata": {
        "id": "aGM2uC9uJInR"
      },
      "outputs": [],
      "source": [
        "# imputer = SimpleImputer(strategy='median')\n",
        "# df[fix_columns] = imputer.fit_transform(df[fix_columns])\n",
        "\n",
        "knn_imputer = KNNImputer(n_neighbors=5) \n",
        "df[fix_columns] = knn_imputer.fit_transform(df[fix_columns])"
      ]
    },
    {
      "cell_type": "code",
      "execution_count": 300,
      "metadata": {},
      "outputs": [
        {
          "data": {
            "image/png": "[encoded data removed]",
            "text/plain": [
              "<Figure size 800x400 with 1 Axes>"
            ]
          },
          "metadata": {},
          "output_type": "display_data"
        },
        {
          "data": {
            "image/png": "[encoded data removed]",
            "text/plain": [
              "<Figure size 800x400 with 1 Axes>"
            ]
          },
          "metadata": {},
          "output_type": "display_data"
        },
        {
          "data": {
            "image/png": "[encoded data removed]",
            "text/plain": [
              "<Figure size 800x400 with 1 Axes>"
            ]
          },
          "metadata": {},
          "output_type": "display_data"
        },
        {
          "data": {
            "image/png": "[encoded data removed]",
            "text/plain": [
              "<Figure size 800x400 with 1 Axes>"
            ]
          },
          "metadata": {},
          "output_type": "display_data"
        },
        {
          "data": {
            "image/png": "[encoded data removed]",
            "text/plain": [
              "<Figure size 800x400 with 1 Axes>"
            ]
          },
          "metadata": {},
          "output_type": "display_data"
        },
        {
          "data": {
            "image/png": "[encoded data removed]",
            "text/plain": [
              "<Figure size 800x400 with 1 Axes>"
            ]
          },
          "metadata": {},
          "output_type": "display_data"
        }
      ],
      "source": [
        "for var in learning_vars:\n",
        "    plt.figure(figsize=(8, 4))\n",
        "    plt.boxplot(df[var], vert=False, patch_artist=True, showfliers=True)\n",
        "    plt.title(f'Box Plot of {var}')\n",
        "    plt.xlabel(var)\n",
        "    plt.show()"
      ]
    },
    {
      "cell_type": "code",
      "execution_count": 301,
      "metadata": {
        "colab": {
          "base_uri": "https://localhost:8080/",
          "height": 206
        },
        "id": "BD-EP_l0JInS",
        "outputId": "4244121a-f48e-4634-b6dc-02286b681b14"
      },
      "outputs": [
        {
          "data": {
            "text/html": [
              "<div>\n",
              "<style scoped>\n",
              "    .dataframe tbody tr th:only-of-type {\n",
              "        vertical-align: middle;\n",
              "    }\n",
              "\n",
              "    .dataframe tbody tr th {\n",
              "        vertical-align: top;\n",
              "    }\n",
              "\n",
              "    .dataframe thead th {\n",
              "        text-align: right;\n",
              "    }\n",
              "</style>\n",
              "<table border=\"1\" class=\"dataframe\">\n",
              "  <thead>\n",
              "    <tr style=\"text-align: right;\">\n",
              "      <th></th>\n",
              "      <th>StationId</th>\n",
              "      <th>Date</th>\n",
              "      <th>PM2.5</th>\n",
              "      <th>PM10</th>\n",
              "      <th>NO</th>\n",
              "      <th>NO2</th>\n",
              "      <th>NOx</th>\n",
              "      <th>NH3</th>\n",
              "      <th>CO</th>\n",
              "      <th>SO2</th>\n",
              "      <th>O3</th>\n",
              "      <th>Benzene</th>\n",
              "      <th>Toluene</th>\n",
              "      <th>Xylene</th>\n",
              "      <th>AQI</th>\n",
              "      <th>AQI_Bucket</th>\n",
              "    </tr>\n",
              "  </thead>\n",
              "  <tbody>\n",
              "    <tr>\n",
              "      <th>0</th>\n",
              "      <td>AP001</td>\n",
              "      <td>2017-11-24</td>\n",
              "      <td>71.36</td>\n",
              "      <td>115.75</td>\n",
              "      <td>1.75</td>\n",
              "      <td>20.65</td>\n",
              "      <td>12.40</td>\n",
              "      <td>12.19</td>\n",
              "      <td>0.10</td>\n",
              "      <td>10.76</td>\n",
              "      <td>109.26</td>\n",
              "      <td>0.17</td>\n",
              "      <td>5.92</td>\n",
              "      <td>0.10</td>\n",
              "      <td>84.6</td>\n",
              "      <td>NaN</td>\n",
              "    </tr>\n",
              "    <tr>\n",
              "      <th>1</th>\n",
              "      <td>AP001</td>\n",
              "      <td>2017-11-25</td>\n",
              "      <td>81.40</td>\n",
              "      <td>124.50</td>\n",
              "      <td>1.44</td>\n",
              "      <td>20.50</td>\n",
              "      <td>12.08</td>\n",
              "      <td>10.72</td>\n",
              "      <td>0.12</td>\n",
              "      <td>15.24</td>\n",
              "      <td>127.09</td>\n",
              "      <td>0.20</td>\n",
              "      <td>6.50</td>\n",
              "      <td>0.06</td>\n",
              "      <td>184.0</td>\n",
              "      <td>Moderate</td>\n",
              "    </tr>\n",
              "    <tr>\n",
              "      <th>2</th>\n",
              "      <td>AP001</td>\n",
              "      <td>2017-11-26</td>\n",
              "      <td>78.32</td>\n",
              "      <td>129.06</td>\n",
              "      <td>1.26</td>\n",
              "      <td>26.00</td>\n",
              "      <td>14.85</td>\n",
              "      <td>10.28</td>\n",
              "      <td>0.14</td>\n",
              "      <td>26.96</td>\n",
              "      <td>117.44</td>\n",
              "      <td>0.22</td>\n",
              "      <td>7.95</td>\n",
              "      <td>0.08</td>\n",
              "      <td>197.0</td>\n",
              "      <td>Moderate</td>\n",
              "    </tr>\n",
              "    <tr>\n",
              "      <th>3</th>\n",
              "      <td>AP001</td>\n",
              "      <td>2017-11-27</td>\n",
              "      <td>88.76</td>\n",
              "      <td>135.32</td>\n",
              "      <td>6.60</td>\n",
              "      <td>30.85</td>\n",
              "      <td>21.77</td>\n",
              "      <td>12.91</td>\n",
              "      <td>0.11</td>\n",
              "      <td>33.59</td>\n",
              "      <td>111.81</td>\n",
              "      <td>0.29</td>\n",
              "      <td>7.63</td>\n",
              "      <td>0.12</td>\n",
              "      <td>198.0</td>\n",
              "      <td>Moderate</td>\n",
              "    </tr>\n",
              "    <tr>\n",
              "      <th>4</th>\n",
              "      <td>AP001</td>\n",
              "      <td>2017-11-28</td>\n",
              "      <td>64.18</td>\n",
              "      <td>104.09</td>\n",
              "      <td>2.56</td>\n",
              "      <td>28.07</td>\n",
              "      <td>17.01</td>\n",
              "      <td>11.42</td>\n",
              "      <td>0.09</td>\n",
              "      <td>19.00</td>\n",
              "      <td>138.18</td>\n",
              "      <td>0.17</td>\n",
              "      <td>5.02</td>\n",
              "      <td>0.07</td>\n",
              "      <td>188.0</td>\n",
              "      <td>Moderate</td>\n",
              "    </tr>\n",
              "  </tbody>\n",
              "</table>\n",
              "</div>"
            ],
            "text/plain": [
              "  StationId        Date  PM2.5    PM10    NO    NO2    NOx    NH3    CO  \\\n",
              "0     AP001  2017-11-24  71.36  115.75  1.75  20.65  12.40  12.19  0.10   \n",
              "1     AP001  2017-11-25  81.40  124.50  1.44  20.50  12.08  10.72  0.12   \n",
              "2     AP001  2017-11-26  78.32  129.06  1.26  26.00  14.85  10.28  0.14   \n",
              "3     AP001  2017-11-27  88.76  135.32  6.60  30.85  21.77  12.91  0.11   \n",
              "4     AP001  2017-11-28  64.18  104.09  2.56  28.07  17.01  11.42  0.09   \n",
              "\n",
              "     SO2      O3  Benzene  Toluene  Xylene    AQI AQI_Bucket  \n",
              "0  10.76  109.26     0.17     5.92    0.10   84.6        NaN  \n",
              "1  15.24  127.09     0.20     6.50    0.06  184.0   Moderate  \n",
              "2  26.96  117.44     0.22     7.95    0.08  197.0   Moderate  \n",
              "3  33.59  111.81     0.29     7.63    0.12  198.0   Moderate  \n",
              "4  19.00  138.18     0.17     5.02    0.07  188.0   Moderate  "
            ]
          },
          "execution_count": 301,
          "metadata": {},
          "output_type": "execute_result"
        }
      ],
      "source": [
        "df.head()"
      ]
    },
    {
      "cell_type": "code",
      "execution_count": 302,
      "metadata": {
        "id": "CaWDeX9CJInT"
      },
      "outputs": [],
      "source": [
        "label_encoder = LabelEncoder()\n",
        "df[target_classification] = label_encoder.fit_transform(df[target_classification])"
      ]
    },
    {
      "cell_type": "code",
      "execution_count": 303,
      "metadata": {
        "colab": {
          "base_uri": "https://localhost:8080/"
        },
        "id": "5UIzqvF-JInU",
        "outputId": "d2e8b85e-89b0-4076-aae1-c9644abe4ba9"
      },
      "outputs": [
        {
          "name": "stdout",
          "output_type": "stream",
          "text": [
            "<class 'pandas.core.frame.DataFrame'>\n",
            "RangeIndex: 108035 entries, 0 to 108034\n",
            "Data columns (total 16 columns):\n",
            " #   Column      Non-Null Count   Dtype  \n",
            "---  ------      --------------   -----  \n",
            " 0   StationId   108035 non-null  object \n",
            " 1   Date        108035 non-null  object \n",
            " 2   PM2.5       108035 non-null  float64\n",
            " 3   PM10        108035 non-null  float64\n",
            " 4   NO          90929 non-null   float64\n",
            " 5   NO2         108035 non-null  float64\n",
            " 6   NOx         92535 non-null   float64\n",
            " 7   NH3         59930 non-null   float64\n",
            " 8   CO          108035 non-null  float64\n",
            " 9   SO2         108035 non-null  float64\n",
            " 10  O3          108035 non-null  float64\n",
            " 11  Benzene     76580 non-null   float64\n",
            " 12  Toluene     69333 non-null   float64\n",
            " 13  Xylene      22898 non-null   float64\n",
            " 14  AQI         108035 non-null  float64\n",
            " 15  AQI_Bucket  108035 non-null  int64  \n",
            "dtypes: float64(13), int64(1), object(2)\n",
            "memory usage: 13.2+ MB\n"
          ]
        }
      ],
      "source": [
        "df.info()"
      ]
    },
    {
      "cell_type": "code",
      "execution_count": 304,
      "metadata": {},
      "outputs": [
        {
          "data": {
            "text/html": [
              "<div>\n",
              "<style scoped>\n",
              "    .dataframe tbody tr th:only-of-type {\n",
              "        vertical-align: middle;\n",
              "    }\n",
              "\n",
              "    .dataframe tbody tr th {\n",
              "        vertical-align: top;\n",
              "    }\n",
              "\n",
              "    .dataframe thead th {\n",
              "        text-align: right;\n",
              "    }\n",
              "</style>\n",
              "<table border=\"1\" class=\"dataframe\">\n",
              "  <thead>\n",
              "    <tr style=\"text-align: right;\">\n",
              "      <th></th>\n",
              "      <th>StationId</th>\n",
              "      <th>Date</th>\n",
              "      <th>PM2.5</th>\n",
              "      <th>PM10</th>\n",
              "      <th>NO</th>\n",
              "      <th>NO2</th>\n",
              "      <th>NOx</th>\n",
              "      <th>NH3</th>\n",
              "      <th>CO</th>\n",
              "      <th>SO2</th>\n",
              "      <th>O3</th>\n",
              "      <th>Benzene</th>\n",
              "      <th>Toluene</th>\n",
              "      <th>Xylene</th>\n",
              "      <th>AQI</th>\n",
              "      <th>AQI_Bucket</th>\n",
              "    </tr>\n",
              "  </thead>\n",
              "  <tbody>\n",
              "    <tr>\n",
              "      <th>0</th>\n",
              "      <td>AP001</td>\n",
              "      <td>2017-11-24</td>\n",
              "      <td>71.36</td>\n",
              "      <td>115.75</td>\n",
              "      <td>1.75</td>\n",
              "      <td>20.65</td>\n",
              "      <td>12.40</td>\n",
              "      <td>12.19</td>\n",
              "      <td>0.10</td>\n",
              "      <td>10.76</td>\n",
              "      <td>109.26</td>\n",
              "      <td>0.17</td>\n",
              "      <td>5.92</td>\n",
              "      <td>0.10</td>\n",
              "      <td>84.6</td>\n",
              "      <td>6</td>\n",
              "    </tr>\n",
              "    <tr>\n",
              "      <th>1</th>\n",
              "      <td>AP001</td>\n",
              "      <td>2017-11-25</td>\n",
              "      <td>81.40</td>\n",
              "      <td>124.50</td>\n",
              "      <td>1.44</td>\n",
              "      <td>20.50</td>\n",
              "      <td>12.08</td>\n",
              "      <td>10.72</td>\n",
              "      <td>0.12</td>\n",
              "      <td>15.24</td>\n",
              "      <td>127.09</td>\n",
              "      <td>0.20</td>\n",
              "      <td>6.50</td>\n",
              "      <td>0.06</td>\n",
              "      <td>184.0</td>\n",
              "      <td>1</td>\n",
              "    </tr>\n",
              "    <tr>\n",
              "      <th>2</th>\n",
              "      <td>AP001</td>\n",
              "      <td>2017-11-26</td>\n",
              "      <td>78.32</td>\n",
              "      <td>129.06</td>\n",
              "      <td>1.26</td>\n",
              "      <td>26.00</td>\n",
              "      <td>14.85</td>\n",
              "      <td>10.28</td>\n",
              "      <td>0.14</td>\n",
              "      <td>26.96</td>\n",
              "      <td>117.44</td>\n",
              "      <td>0.22</td>\n",
              "      <td>7.95</td>\n",
              "      <td>0.08</td>\n",
              "      <td>197.0</td>\n",
              "      <td>1</td>\n",
              "    </tr>\n",
              "    <tr>\n",
              "      <th>3</th>\n",
              "      <td>AP001</td>\n",
              "      <td>2017-11-27</td>\n",
              "      <td>88.76</td>\n",
              "      <td>135.32</td>\n",
              "      <td>6.60</td>\n",
              "      <td>30.85</td>\n",
              "      <td>21.77</td>\n",
              "      <td>12.91</td>\n",
              "      <td>0.11</td>\n",
              "      <td>33.59</td>\n",
              "      <td>111.81</td>\n",
              "      <td>0.29</td>\n",
              "      <td>7.63</td>\n",
              "      <td>0.12</td>\n",
              "      <td>198.0</td>\n",
              "      <td>1</td>\n",
              "    </tr>\n",
              "    <tr>\n",
              "      <th>4</th>\n",
              "      <td>AP001</td>\n",
              "      <td>2017-11-28</td>\n",
              "      <td>64.18</td>\n",
              "      <td>104.09</td>\n",
              "      <td>2.56</td>\n",
              "      <td>28.07</td>\n",
              "      <td>17.01</td>\n",
              "      <td>11.42</td>\n",
              "      <td>0.09</td>\n",
              "      <td>19.00</td>\n",
              "      <td>138.18</td>\n",
              "      <td>0.17</td>\n",
              "      <td>5.02</td>\n",
              "      <td>0.07</td>\n",
              "      <td>188.0</td>\n",
              "      <td>1</td>\n",
              "    </tr>\n",
              "  </tbody>\n",
              "</table>\n",
              "</div>"
            ],
            "text/plain": [
              "  StationId        Date  PM2.5    PM10    NO    NO2    NOx    NH3    CO  \\\n",
              "0     AP001  2017-11-24  71.36  115.75  1.75  20.65  12.40  12.19  0.10   \n",
              "1     AP001  2017-11-25  81.40  124.50  1.44  20.50  12.08  10.72  0.12   \n",
              "2     AP001  2017-11-26  78.32  129.06  1.26  26.00  14.85  10.28  0.14   \n",
              "3     AP001  2017-11-27  88.76  135.32  6.60  30.85  21.77  12.91  0.11   \n",
              "4     AP001  2017-11-28  64.18  104.09  2.56  28.07  17.01  11.42  0.09   \n",
              "\n",
              "     SO2      O3  Benzene  Toluene  Xylene    AQI  AQI_Bucket  \n",
              "0  10.76  109.26     0.17     5.92    0.10   84.6           6  \n",
              "1  15.24  127.09     0.20     6.50    0.06  184.0           1  \n",
              "2  26.96  117.44     0.22     7.95    0.08  197.0           1  \n",
              "3  33.59  111.81     0.29     7.63    0.12  198.0           1  \n",
              "4  19.00  138.18     0.17     5.02    0.07  188.0           1  "
            ]
          },
          "execution_count": 304,
          "metadata": {},
          "output_type": "execute_result"
        }
      ],
      "source": [
        "df.head()"
      ]
    },
    {
      "cell_type": "code",
      "execution_count": 305,
      "metadata": {
        "id": "txj1SzMFJInV"
      },
      "outputs": [],
      "source": [
        "X = df[learning_vars]\n",
        "\n",
        "y_class = df[target_classification]\n",
        "y_reg = df[target_regression]\n",
        "\n",
        "X_train_class, X_test_class, y_train_class, y_test_class = train_test_split(X, y_class, test_size=0.2, random_state=0)\n",
        "X_train_reg, X_test_reg, y_train_reg, y_test_reg = train_test_split(X, y_reg, test_size=0.2, random_state=0)"
      ]
    },
    {
      "cell_type": "code",
      "execution_count": 306,
      "metadata": {},
      "outputs": [],
      "source": [
        "smote = SMOTE(random_state=0)\n",
        "X_train_class, y_train_class = smote.fit_resample(X_train_class, y_train_class)"
      ]
    },
    {
      "cell_type": "code",
      "execution_count": 307,
      "metadata": {},
      "outputs": [
        {
          "data": {
            "text/html": [
              "<div>\n",
              "<style scoped>\n",
              "    .dataframe tbody tr th:only-of-type {\n",
              "        vertical-align: middle;\n",
              "    }\n",
              "\n",
              "    .dataframe tbody tr th {\n",
              "        vertical-align: top;\n",
              "    }\n",
              "\n",
              "    .dataframe thead th {\n",
              "        text-align: right;\n",
              "    }\n",
              "</style>\n",
              "<table border=\"1\" class=\"dataframe\">\n",
              "  <thead>\n",
              "    <tr style=\"text-align: right;\">\n",
              "      <th></th>\n",
              "      <th>PM2.5</th>\n",
              "      <th>PM10</th>\n",
              "      <th>NO2</th>\n",
              "      <th>CO</th>\n",
              "      <th>SO2</th>\n",
              "      <th>O3</th>\n",
              "    </tr>\n",
              "  </thead>\n",
              "  <tbody>\n",
              "    <tr>\n",
              "      <th>0</th>\n",
              "      <td>71.36</td>\n",
              "      <td>115.75</td>\n",
              "      <td>20.65</td>\n",
              "      <td>0.10</td>\n",
              "      <td>10.76</td>\n",
              "      <td>109.26</td>\n",
              "    </tr>\n",
              "    <tr>\n",
              "      <th>1</th>\n",
              "      <td>81.40</td>\n",
              "      <td>124.50</td>\n",
              "      <td>20.50</td>\n",
              "      <td>0.12</td>\n",
              "      <td>15.24</td>\n",
              "      <td>127.09</td>\n",
              "    </tr>\n",
              "    <tr>\n",
              "      <th>2</th>\n",
              "      <td>78.32</td>\n",
              "      <td>129.06</td>\n",
              "      <td>26.00</td>\n",
              "      <td>0.14</td>\n",
              "      <td>26.96</td>\n",
              "      <td>117.44</td>\n",
              "    </tr>\n",
              "    <tr>\n",
              "      <th>3</th>\n",
              "      <td>88.76</td>\n",
              "      <td>135.32</td>\n",
              "      <td>30.85</td>\n",
              "      <td>0.11</td>\n",
              "      <td>33.59</td>\n",
              "      <td>111.81</td>\n",
              "    </tr>\n",
              "    <tr>\n",
              "      <th>4</th>\n",
              "      <td>64.18</td>\n",
              "      <td>104.09</td>\n",
              "      <td>28.07</td>\n",
              "      <td>0.09</td>\n",
              "      <td>19.00</td>\n",
              "      <td>138.18</td>\n",
              "    </tr>\n",
              "  </tbody>\n",
              "</table>\n",
              "</div>"
            ],
            "text/plain": [
              "   PM2.5    PM10    NO2    CO    SO2      O3\n",
              "0  71.36  115.75  20.65  0.10  10.76  109.26\n",
              "1  81.40  124.50  20.50  0.12  15.24  127.09\n",
              "2  78.32  129.06  26.00  0.14  26.96  117.44\n",
              "3  88.76  135.32  30.85  0.11  33.59  111.81\n",
              "4  64.18  104.09  28.07  0.09  19.00  138.18"
            ]
          },
          "execution_count": 307,
          "metadata": {},
          "output_type": "execute_result"
        }
      ],
      "source": [
        "X.head()"
      ]
    },
    {
      "cell_type": "code",
      "execution_count": 308,
      "metadata": {
        "id": "MiYVzdZmJInW"
      },
      "outputs": [],
      "source": [
        "scaler = StandardScaler()\n",
        "X_train_class = scaler.fit_transform(X_train_class)\n",
        "X_test_class = scaler.transform(X_test_class)\n",
        "X_train_reg = scaler.fit_transform(X_train_reg)\n",
        "X_test_reg = scaler.transform(X_test_reg)"
      ]
    },
    {
      "cell_type": "code",
      "execution_count": 309,
      "metadata": {
        "colab": {
          "base_uri": "https://localhost:8080/"
        },
        "id": "fTGNIxiNJInW",
        "outputId": "e2ac7615-8b98-4a90-9e8f-ad6ec5f14e42"
      },
      "outputs": [
        {
          "name": "stdout",
          "output_type": "stream",
          "text": [
            "Logistic Regression Classification Report:\n",
            "              precision    recall  f1-score   support\n",
            "\n",
            "           0       0.39      0.80      0.52      1125\n",
            "           1       0.71      0.57      0.63      5895\n",
            "           2       0.47      0.53      0.50      2282\n",
            "           3       0.64      0.58      0.61      4749\n",
            "           4       0.63      0.77      0.70       999\n",
            "           5       0.67      0.65      0.66      2318\n",
            "           6       0.70      0.69      0.70      4239\n",
            "\n",
            "    accuracy                           0.62     21607\n",
            "   macro avg       0.60      0.66      0.62     21607\n",
            "weighted avg       0.64      0.62      0.63     21607\n",
            "\n"
          ]
        }
      ],
      "source": [
        "logistic_model = LogisticRegression(max_iter=2000)\n",
        "logistic_model.fit(X_train_class, y_train_class)\n",
        "y_pred_class_logistic = logistic_model.predict(X_test_class)\n",
        "print(\"Logistic Regression Classification Report:\")\n",
        "print(classification_report(y_test_class, y_pred_class_logistic, zero_division=1))"
      ]
    },
    {
      "cell_type": "code",
      "execution_count": 310,
      "metadata": {
        "colab": {
          "base_uri": "https://localhost:8080/"
        },
        "id": "c-7bA0ovK_pb",
        "outputId": "26575f17-b7a2-4838-d306-da3105e39b35"
      },
      "outputs": [
        {
          "name": "stdout",
          "output_type": "stream",
          "text": [
            "Decision Tree Classification Report:\n",
            "              precision    recall  f1-score   support\n",
            "\n",
            "           0       0.50      0.81      0.62      1125\n",
            "           1       0.71      0.69      0.70      5895\n",
            "           2       0.52      0.69      0.59      2282\n",
            "           3       0.71      0.67      0.69      4749\n",
            "           4       0.67      0.85      0.75       999\n",
            "           5       0.71      0.75      0.73      2318\n",
            "           6       0.97      0.65      0.78      4239\n",
            "\n",
            "    accuracy                           0.70     21607\n",
            "   macro avg       0.69      0.73      0.70     21607\n",
            "weighted avg       0.73      0.70      0.70     21607\n",
            "\n"
          ]
        }
      ],
      "source": [
        "dtree_classifier = DecisionTreeClassifier(random_state=0,max_depth=7,min_samples_split=70)\n",
        "dtree_classifier.fit(X_train_class, y_train_class)\n",
        "y_pred_class_dtree=dtree_classifier.predict(X_test_class)\n",
        "print(\"Decision Tree Classification Report:\")\n",
        "print(classification_report(y_test_class, y_pred_class_dtree, zero_division=1))"
      ]
    },
    {
      "cell_type": "code",
      "execution_count": 311,
      "metadata": {
        "colab": {
          "base_uri": "https://localhost:8080/"
        },
        "id": "oS_Tze4sNVgM",
        "outputId": "d489e330-29df-42c7-e367-efd9f2076973"
      },
      "outputs": [
        {
          "name": "stdout",
          "output_type": "stream",
          "text": [
            "Decision Tree Regression Metrics:\n",
            "MSE: 2363.738906002378\n",
            "R2 Score: 0.8331661176664715\n"
          ]
        }
      ],
      "source": [
        "dtree_regressor = DecisionTreeRegressor(random_state=0,max_depth=10,min_samples_leaf=3,min_samples_split=90)\n",
        "dtree_regressor.fit(X_train_reg, y_train_reg)\n",
        "y_pred_reg_dt=dtree_regressor.predict(X_test_reg)\n",
        "print(\"Decision Tree Regression Metrics:\")\n",
        "print(\"MSE:\", mean_squared_error(y_test_reg, y_pred_reg_dt))\n",
        "print(\"R2 Score:\", r2_score(y_test_reg, y_pred_reg_dt))"
      ]
    },
    {
      "cell_type": "code",
      "execution_count": 312,
      "metadata": {
        "colab": {
          "base_uri": "https://localhost:8080/"
        },
        "id": "S4LjZyffJInX",
        "outputId": "5805a8d8-0f7e-433f-dac4-d24b8cb8fbee"
      },
      "outputs": [
        {
          "name": "stdout",
          "output_type": "stream",
          "text": [
            "Random Forest Classification Report:\n",
            "              precision    recall  f1-score   support\n",
            "\n",
            "           0       0.50      0.69      0.58      1125\n",
            "           1       0.68      0.59      0.63      5895\n",
            "           2       0.46      0.55      0.50      2282\n",
            "           3       0.67      0.63      0.65      4749\n",
            "           4       0.63      0.75      0.69       999\n",
            "           5       0.64      0.65      0.64      2318\n",
            "           6       0.74      0.73      0.73      4239\n",
            "\n",
            "    accuracy                           0.64     21607\n",
            "   macro avg       0.62      0.66      0.63     21607\n",
            "weighted avg       0.65      0.64      0.64     21607\n",
            "\n"
          ]
        }
      ],
      "source": [
        "rf_classifier = RandomForestClassifier(n_estimators=1, random_state=0)\n",
        "rf_classifier.fit(X_train_class, y_train_class)\n",
        "y_pred_class_rf = rf_classifier.predict(X_test_class)\n",
        "print(\"Random Forest Classification Report:\")\n",
        "print(classification_report(y_test_class, y_pred_class_rf, zero_division=1))"
      ]
    },
    {
      "cell_type": "code",
      "execution_count": 313,
      "metadata": {
        "colab": {
          "base_uri": "https://localhost:8080/"
        },
        "id": "hi6y0rGuJInX",
        "outputId": "5edd9dbe-ec61-4434-ebbb-07ae0061295b"
      },
      "outputs": [
        {
          "name": "stdout",
          "output_type": "stream",
          "text": [
            "Random Forest Regression Metrics:\n",
            "MSE: 2016.212922054424\n",
            "R2 Score: 0.8576946766230411\n"
          ]
        }
      ],
      "source": [
        "rf_regressor = RandomForestRegressor(n_estimators=100, random_state=42)\n",
        "rf_regressor.fit(X_train_reg, y_train_reg)\n",
        "y_pred_reg_rf = rf_regressor.predict(X_test_reg)\n",
        "print(\"Random Forest Regression Metrics:\")\n",
        "print(\"MSE:\", mean_squared_error(y_test_reg, y_pred_reg_rf))\n",
        "print(\"R2 Score:\", r2_score(y_test_reg, y_pred_reg_rf))"
      ]
    },
    {
      "cell_type": "code",
      "execution_count": 314,
      "metadata": {
        "colab": {
          "base_uri": "https://localhost:8080/"
        },
        "id": "sef4OMlBOTzl",
        "outputId": "7dc6c7e5-f555-4fdf-e32c-ed6e431992b4"
      },
      "outputs": [
        {
          "name": "stdout",
          "output_type": "stream",
          "text": [
            "XGBoost Classification Report:\n",
            "              precision    recall  f1-score   support\n",
            "\n",
            "           0       0.61      0.81      0.70      1125\n",
            "           1       0.77      0.70      0.73      5895\n",
            "           2       0.55      0.73      0.63      2282\n",
            "           3       0.73      0.77      0.75      4749\n",
            "           4       0.74      0.83      0.78       999\n",
            "           5       0.72      0.77      0.74      2318\n",
            "           6       0.97      0.70      0.81      4239\n",
            "\n",
            "    accuracy                           0.74     21607\n",
            "   macro avg       0.73      0.76      0.73     21607\n",
            "weighted avg       0.76      0.74      0.74     21607\n",
            "\n"
          ]
        }
      ],
      "source": [
        "xgb_classifier = xgb.XGBClassifier(random_state=0,max_depth=10,learning_rate=0.1,n_estimators= 100)\n",
        "xgb_classifier.fit(X_train_class, y_train_class)\n",
        "y_pred_class_xgb=xgb_classifier.predict(X_test_class)\n",
        "print(\"XGBoost Classification Report:\")\n",
        "print(classification_report(y_test_class, y_pred_class_xgb))"
      ]
    },
    {
      "cell_type": "code",
      "execution_count": 315,
      "metadata": {
        "colab": {
          "base_uri": "https://localhost:8080/"
        },
        "id": "ubac3EHnPxHZ",
        "outputId": "652e746c-31c2-469d-aa4b-9571320775ca"
      },
      "outputs": [
        {
          "name": "stdout",
          "output_type": "stream",
          "text": [
            "XGBoost Regression Metrics:\n",
            "MSE: 2098.5933410916814\n",
            "R2 Score: 0.851880225161694\n"
          ]
        }
      ],
      "source": [
        "xgb_regressor = xgb.XGBRegressor(random_state=0,max_depth=5,n_estimators= 100)\n",
        "xgb_regressor.fit(X_train_reg, y_train_reg)\n",
        "y_pred_reg_xgb=xgb_regressor.predict(X_test_reg)\n",
        "print(\"XGBoost Regression Metrics:\")\n",
        "print(\"MSE:\", mean_squared_error(y_test_reg, y_pred_reg_xgb))\n",
        "print(\"R2 Score:\", r2_score(y_test_reg, y_pred_reg_xgb))"
      ]
    },
    {
      "cell_type": "code",
      "execution_count": 316,
      "metadata": {
        "colab": {
          "base_uri": "https://localhost:8080/"
        },
        "id": "yzfLx_icJInY",
        "outputId": "36d55028-68fd-48d5-a0a9-9d363965314c"
      },
      "outputs": [
        {
          "name": "stdout",
          "output_type": "stream",
          "text": [
            "MLP Classification Report:\n",
            "              precision    recall  f1-score   support\n",
            "\n",
            "           0       0.48      0.89      0.62      1125\n",
            "           1       0.74      0.71      0.73      5895\n",
            "           2       0.54      0.71      0.61      2282\n",
            "           3       0.74      0.66      0.70      4749\n",
            "           4       0.72      0.83      0.77       999\n",
            "           5       0.70      0.77      0.73      2318\n",
            "           6       0.97      0.68      0.80      4239\n",
            "\n",
            "    accuracy                           0.71     21607\n",
            "   macro avg       0.70      0.75      0.71     21607\n",
            "weighted avg       0.75      0.71      0.72     21607\n",
            "\n"
          ]
        }
      ],
      "source": [
        "mlp_classifier = MLPClassifier(hidden_layer_sizes=(100, 50), max_iter=1000, random_state=42)\n",
        "mlp_classifier.fit(X_train_class, y_train_class)\n",
        "y_pred_class_mlp = mlp_classifier.predict(X_test_class)\n",
        "print(\"MLP Classification Report:\")\n",
        "print(classification_report(y_test_class, y_pred_class_mlp, zero_division=1))"
      ]
    },
    {
      "cell_type": "code",
      "execution_count": 317,
      "metadata": {
        "colab": {
          "base_uri": "https://localhost:8080/"
        },
        "id": "AHuzcu-bJInY",
        "outputId": "44ebc19a-7c71-4e16-ad92-e11298a51544"
      },
      "outputs": [
        {
          "name": "stdout",
          "output_type": "stream",
          "text": [
            "MLP Regression Metrics:\n",
            "MSE: 2141.0665683497164\n",
            "R2 Score: 0.8488824433928623\n"
          ]
        }
      ],
      "source": [
        "mlp_regressor = MLPRegressor(hidden_layer_sizes=(100, 50), max_iter=300, random_state=42)\n",
        "mlp_regressor.fit(X_train_reg, y_train_reg)\n",
        "y_pred_reg_mlp = mlp_regressor.predict(X_test_reg)\n",
        "print(\"MLP Regression Metrics:\")\n",
        "print(\"MSE:\", mean_squared_error(y_test_reg, y_pred_reg_mlp))\n",
        "print(\"R2 Score:\", r2_score(y_test_reg, y_pred_reg_mlp))"
      ]
    },
    {
      "cell_type": "code",
      "execution_count": 318,
      "metadata": {
        "colab": {
          "base_uri": "https://localhost:8080/"
        },
        "id": "oqpbzK36JInY",
        "outputId": "4efc781c-44eb-4ac5-a435-1b0054484158"
      },
      "outputs": [
        {
          "name": "stdout",
          "output_type": "stream",
          "text": [
            "MLP Dual Prediction Metrics:\n",
            "MSE (AQI_Bucket): 1.9518209883546958\n",
            "MSE (AQI): 2036.0267869457055\n"
          ]
        }
      ],
      "source": [
        "y_dual = df[[target_classification, target_regression]]\n",
        "X_train_dual, X_test_dual, y_train_dual, y_test_dual = train_test_split(X, y_dual, test_size=0.2, random_state=42)\n",
        "\n",
        "X_train_dual = scaler.fit_transform(X_train_dual)\n",
        "X_test_dual = scaler.transform(X_test_dual)\n",
        "\n",
        "mlp_dual = MLPRegressor(hidden_layer_sizes=(100, 50), max_iter=1000, random_state=42)\n",
        "mlp_dual.fit(X_train_dual, y_train_dual)\n",
        "y_pred_dual = mlp_dual.predict(X_test_dual)\n",
        "\n",
        "print(\"MLP Dual Prediction Metrics:\")\n",
        "print(\"MSE (AQI_Bucket):\", mean_squared_error(y_test_dual[target_classification], y_pred_dual[:, 0]))\n",
        "print(\"MSE (AQI):\", mean_squared_error(y_test_dual[target_regression], y_pred_dual[:, 1]))"
      ]
    },
    {
      "cell_type": "code",
      "execution_count": 319,
      "metadata": {
        "colab": {
          "base_uri": "https://localhost:8080/"
        },
        "id": "hlAkfe-MJInZ",
        "outputId": "9b30fa81-2d8f-4076-f6b7-0221d0d658e4"
      },
      "outputs": [
        {
          "data": {
            "text/plain": [
              "['label_encoder.pkl']"
            ]
          },
          "execution_count": 319,
          "metadata": {},
          "output_type": "execute_result"
        }
      ],
      "source": [
        "joblib.dump(logistic_model, 'logistic_model.pkl')\n",
        "joblib.dump(dtree_classifier,'dtree_classifier.pkl')\n",
        "joblib.dump(dtree_regressor,'dtree_regressor.pkl')\n",
        "joblib.dump(rf_classifier, 'rf_classifier.pkl')\n",
        "joblib.dump(rf_regressor, 'rf_regressor.pkl')\n",
        "joblib.dump(xgb_classifier,'xgb_classifier.pkl')\n",
        "joblib.dump(xgb_regressor,'xgb_regressor.pkl')\n",
        "joblib.dump(mlp_classifier, 'mlp_classifier.pkl')\n",
        "joblib.dump(mlp_regressor, 'mlp_regressor.pkl')\n",
        "joblib.dump(mlp_dual, 'mlp_dual.pkl')\n",
        "joblib.dump(scaler, 'scaler.pkl')\n",
        "joblib.dump(label_encoder, 'label_encoder.pkl')"
      ]
    },
    {
      "cell_type": "code",
      "execution_count": 320,
      "metadata": {
        "id": "dZdEr5hWJInZ"
      },
      "outputs": [],
      "source": [
        "def predict_models(x_new_test):\n",
        "    # Load models and scaler\n",
        "    logistic_model = joblib.load('logistic_model.pkl')\n",
        "    dtree_classifier = joblib.load('dtree_classifier.pkl')\n",
        "    dtree_regressor = joblib.load('dtree_regressor.pkl')\n",
        "    rf_classifier = joblib.load('rf_classifier.pkl')\n",
        "    rf_regressor = joblib.load('rf_regressor.pkl')\n",
        "    xgb_classifier = joblib.load('xgb_classifier.pkl')\n",
        "    xgb_regressor = joblib.load('xgb_regressor.pkl')\n",
        "    mlp_classifier = joblib.load('mlp_classifier.pkl')\n",
        "    mlp_regressor = joblib.load('mlp_regressor.pkl')\n",
        "    mlp_dual = joblib.load('mlp_dual.pkl')\n",
        "    scaler = joblib.load('scaler.pkl')\n",
        "    label_encoder = joblib.load('label_encoder.pkl')\n",
        "\n",
        "    # Scale the custom data\n",
        "    x_new_test_scaled = scaler.transform(x_new_test)\n",
        "\n",
        "    # Make predictions\n",
        "    logistic_pred = logistic_model.predict(x_new_test_scaled)\n",
        "    logistic_label = label_encoder.inverse_transform(logistic_pred)\n",
        "\n",
        "    dtree_class_pred = dtree_classifier.predict(x_new_test_scaled)\n",
        "    dtree_class_label = label_encoder.inverse_transform(dtree_class_pred)\n",
        "\n",
        "    dtree_reg_pred = dtree_regressor.predict(x_new_test_scaled)\n",
        "\n",
        "    rf_class_pred = rf_classifier.predict(x_new_test_scaled)\n",
        "    rf_class_label = label_encoder.inverse_transform(rf_class_pred)\n",
        "\n",
        "    rf_reg_pred = rf_regressor.predict(x_new_test_scaled)\n",
        "\n",
        "    xgb_class_pred = xgb_classifier.predict(x_new_test_scaled)\n",
        "    xgb_class_label = label_encoder.inverse_transform(xgb_class_pred)\n",
        "\n",
        "    xgb_reg_pred = xgb_regressor.predict(x_new_test_scaled)\n",
        "\n",
        "    mlp_class_pred = mlp_classifier.predict(x_new_test_scaled)\n",
        "    mlp_class_label = label_encoder.inverse_transform(mlp_class_pred)\n",
        "\n",
        "    mlp_reg_pred = mlp_regressor.predict(x_new_test_scaled)\n",
        "\n",
        "    mlp_dual_pred = mlp_dual.predict(x_new_test_scaled)\n",
        "    mlp_dual_class_label = label_encoder.inverse_transform(mlp_dual_pred[:, 0].astype(int))\n",
        "    mlp_dual_reg_pred = mlp_dual_pred[:, 1]\n",
        "\n",
        "    # Print predictions\n",
        "    print(\"Logistic Regression Prediction:\", logistic_label)\n",
        "    print(\"Decison Tree Classification Prediction:\", dtree_class_label)\n",
        "    print(\"Decision Tree Regression Prediction:\", dtree_reg_pred)\n",
        "    print(\"Random Forest Classification Prediction:\", rf_class_label)\n",
        "    print(\"Random Forest Regression Prediction:\", rf_reg_pred)\n",
        "    print(\"XGBoost Classification Prediction:\", xgb_class_label)\n",
        "    print(\"XGBoost Regression Prediction:\", xgb_reg_pred)\n",
        "    print(\"MLP Classification Prediction:\", mlp_class_label)\n",
        "    print(\"MLP Regression Prediction:\", mlp_reg_pred)\n",
        "    print(\"MLP Dual Prediction - Classification Label:\", mlp_dual_class_label)\n",
        "    print(\"MLP Dual Prediction - Regression Value:\", mlp_dual_reg_pred)\n"
      ]
    },
    {
      "cell_type": "code",
      "execution_count": 323,
      "metadata": {
        "id": "BRR1eXQPJInZ"
      },
      "outputs": [],
      "source": [
        "custom_test_data = {\n",
        "    'PM2.5': [21],\n",
        "    'PM10': [19],\n",
        "    'NO2': [8],\n",
        "    'CO': [1],\n",
        "    'SO2': [1],\n",
        "    'O3': [10]\n",
        "    # 'PM2.5 AQI Value': [21],\n",
        "    # 'NO2 AQI Value': [8],\n",
        "    # 'Ozone AQI Value': [10],\n",
        "    # 'CO AQI Value': [1]\n",
        "}\n",
        "x_new_test = pd.DataFrame(custom_test_data)"
      ]
    },
    {
      "cell_type": "code",
      "execution_count": 324,
      "metadata": {
        "colab": {
          "base_uri": "https://localhost:8080/"
        },
        "id": "6BMUANymJInZ",
        "outputId": "c93200ba-b910-4ecb-f728-67a1b5f5ba42"
      },
      "outputs": [
        {
          "name": "stdout",
          "output_type": "stream",
          "text": [
            "Logistic Regression Prediction: ['Good']\n",
            "Decison Tree Classification Prediction: ['Satisfactory']\n",
            "Decision Tree Regression Prediction: [52.13196217]\n",
            "Random Forest Classification Prediction: [nan]\n",
            "Random Forest Regression Prediction: [64.562]\n",
            "XGBoost Classification Prediction: ['Satisfactory']\n",
            "XGBoost Regression Prediction: [62.466713]\n",
            "MLP Classification Prediction: ['Satisfactory']\n",
            "MLP Regression Prediction: [61.90952046]\n",
            "MLP Dual Prediction - Classification Label: ['Poor']\n",
            "MLP Dual Prediction - Regression Value: [60.53428766]\n"
          ]
        }
      ],
      "source": [
        "predict_models(x_new_test)"
      ]
    },
    {
      "cell_type": "code",
      "execution_count": null,
      "metadata": {},
      "outputs": [],
      "source": []
    }
  ],
  "metadata": {
    "accelerator": "GPU",
    "colab": {
      "gpuType": "T4",
      "include_colab_link": true,
      "provenance": []
    },
    "kernelspec": {
      "display_name": ".venv",
      "language": "python",
      "name": "python3"
    },
    "language_info": {
      "codemirror_mode": {
        "name": "ipython",
        "version": 3
      },
      "file_extension": ".py",
      "mimetype": "text/x-python",
      "name": "python",
      "nbconvert_exporter": "python",
      "pygments_lexer": "ipython3",
      "version": "3.12.4"
    }
  },
  "nbformat": 4,
  "nbformat_minor": 0
}
