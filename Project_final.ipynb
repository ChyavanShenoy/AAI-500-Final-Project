{
  "cells": [
    {
      "cell_type": "markdown",
      "metadata": {
        "colab_type": "text",
        "id": "view-in-github"
      },
      "source": [
        "<a href=\"https://colab.research.google.com/github/ChyavanShenoy/AAI-500-Final-Project/blob/main/Project_final.ipynb\" target=\"_parent\"><img src=\"https://colab.research.google.com/assets/colab-badge.svg\" alt=\"Open In Colab\"/></a>"
      ]
    },
    {
      "cell_type": "markdown",
      "metadata": {},
      "source": [
        "# Final project AAI-500"
      ]
    },
    {
      "cell_type": "markdown",
      "metadata": {},
      "source": [
        "Members:   \n",
        "- Chyavan Shenoy\n",
        "- Koelgeet Kaur\n",
        "- Asad Salah"
      ]
    },
    {
      "cell_type": "markdown",
      "metadata": {},
      "source": [
        "# Imports"
      ]
    },
    {
      "cell_type": "code",
      "execution_count": 258,
      "metadata": {
        "id": "7nsiKs67JInL"
      },
      "outputs": [],
      "source": [
        "import pandas as pd\n",
        "import numpy as np\n",
        "from sklearn.model_selection import train_test_split\n",
        "from sklearn.preprocessing import StandardScaler, LabelEncoder\n",
        "# from sklearn.impute import SimpleImputer\n",
        "from sklearn.impute import KNNImputer\n",
        "from sklearn.linear_model import LogisticRegression\n",
        "from sklearn.ensemble import RandomForestClassifier, RandomForestRegressor\n",
        "from sklearn.tree import DecisionTreeClassifier, DecisionTreeRegressor\n",
        "import xgboost as xgb\n",
        "from sklearn.neural_network import MLPClassifier, MLPRegressor\n",
        "from sklearn.metrics import accuracy_score, classification_report, mean_squared_error, r2_score\n",
        "import joblib\n",
        "from imblearn.over_sampling import SMOTE\n",
        "import matplotlib.pyplot as plt"
      ]
    },
    {
      "cell_type": "markdown",
      "metadata": {},
      "source": [
        "# Loading Dataset"
      ]
    },
    {
      "cell_type": "code",
      "execution_count": 259,
      "metadata": {
        "colab": {
          "base_uri": "https://localhost:8080/",
          "height": 206
        },
        "id": "SOBK7GXlg7MZ",
        "outputId": "5f215e05-de24-49f5-d4dc-23fb90a96451"
      },
      "outputs": [
        {
          "data": {
            "text/html": [
              "<div>\n",
              "<style scoped>\n",
              "    .dataframe tbody tr th:only-of-type {\n",
              "        vertical-align: middle;\n",
              "    }\n",
              "\n",
              "    .dataframe tbody tr th {\n",
              "        vertical-align: top;\n",
              "    }\n",
              "\n",
              "    .dataframe thead th {\n",
              "        text-align: right;\n",
              "    }\n",
              "</style>\n",
              "<table border=\"1\" class=\"dataframe\">\n",
              "  <thead>\n",
              "    <tr style=\"text-align: right;\">\n",
              "      <th></th>\n",
              "      <th>Country</th>\n",
              "      <th>City</th>\n",
              "      <th>AQI Value</th>\n",
              "      <th>AQI Category</th>\n",
              "      <th>CO AQI Value</th>\n",
              "      <th>CO AQI Category</th>\n",
              "      <th>Ozone AQI Value</th>\n",
              "      <th>Ozone AQI Category</th>\n",
              "      <th>NO2 AQI Value</th>\n",
              "      <th>NO2 AQI Category</th>\n",
              "      <th>PM2.5 AQI Value</th>\n",
              "      <th>PM2.5 AQI Category</th>\n",
              "      <th>lat</th>\n",
              "      <th>lng</th>\n",
              "    </tr>\n",
              "  </thead>\n",
              "  <tbody>\n",
              "    <tr>\n",
              "      <th>0</th>\n",
              "      <td>Russian Federation</td>\n",
              "      <td>Praskoveya</td>\n",
              "      <td>51</td>\n",
              "      <td>Moderate</td>\n",
              "      <td>1</td>\n",
              "      <td>Good</td>\n",
              "      <td>36</td>\n",
              "      <td>Good</td>\n",
              "      <td>0</td>\n",
              "      <td>Good</td>\n",
              "      <td>51</td>\n",
              "      <td>Moderate</td>\n",
              "      <td>44.7444</td>\n",
              "      <td>44.2031</td>\n",
              "    </tr>\n",
              "    <tr>\n",
              "      <th>1</th>\n",
              "      <td>Brazil</td>\n",
              "      <td>Presidente Dutra</td>\n",
              "      <td>41</td>\n",
              "      <td>Good</td>\n",
              "      <td>1</td>\n",
              "      <td>Good</td>\n",
              "      <td>5</td>\n",
              "      <td>Good</td>\n",
              "      <td>1</td>\n",
              "      <td>Good</td>\n",
              "      <td>41</td>\n",
              "      <td>Good</td>\n",
              "      <td>-5.2900</td>\n",
              "      <td>-44.4900</td>\n",
              "    </tr>\n",
              "    <tr>\n",
              "      <th>2</th>\n",
              "      <td>Brazil</td>\n",
              "      <td>Presidente Dutra</td>\n",
              "      <td>41</td>\n",
              "      <td>Good</td>\n",
              "      <td>1</td>\n",
              "      <td>Good</td>\n",
              "      <td>5</td>\n",
              "      <td>Good</td>\n",
              "      <td>1</td>\n",
              "      <td>Good</td>\n",
              "      <td>41</td>\n",
              "      <td>Good</td>\n",
              "      <td>-11.2958</td>\n",
              "      <td>-41.9869</td>\n",
              "    </tr>\n",
              "    <tr>\n",
              "      <th>3</th>\n",
              "      <td>Italy</td>\n",
              "      <td>Priolo Gargallo</td>\n",
              "      <td>66</td>\n",
              "      <td>Moderate</td>\n",
              "      <td>1</td>\n",
              "      <td>Good</td>\n",
              "      <td>39</td>\n",
              "      <td>Good</td>\n",
              "      <td>2</td>\n",
              "      <td>Good</td>\n",
              "      <td>66</td>\n",
              "      <td>Moderate</td>\n",
              "      <td>37.1667</td>\n",
              "      <td>15.1833</td>\n",
              "    </tr>\n",
              "    <tr>\n",
              "      <th>4</th>\n",
              "      <td>Poland</td>\n",
              "      <td>Przasnysz</td>\n",
              "      <td>34</td>\n",
              "      <td>Good</td>\n",
              "      <td>1</td>\n",
              "      <td>Good</td>\n",
              "      <td>34</td>\n",
              "      <td>Good</td>\n",
              "      <td>0</td>\n",
              "      <td>Good</td>\n",
              "      <td>20</td>\n",
              "      <td>Good</td>\n",
              "      <td>53.0167</td>\n",
              "      <td>20.8833</td>\n",
              "    </tr>\n",
              "  </tbody>\n",
              "</table>\n",
              "</div>"
            ],
            "text/plain": [
              "              Country              City  AQI Value AQI Category  CO AQI Value  \\\n",
              "0  Russian Federation        Praskoveya         51     Moderate             1   \n",
              "1              Brazil  Presidente Dutra         41         Good             1   \n",
              "2              Brazil  Presidente Dutra         41         Good             1   \n",
              "3               Italy   Priolo Gargallo         66     Moderate             1   \n",
              "4              Poland         Przasnysz         34         Good             1   \n",
              "\n",
              "  CO AQI Category  Ozone AQI Value Ozone AQI Category  NO2 AQI Value  \\\n",
              "0            Good               36               Good              0   \n",
              "1            Good                5               Good              1   \n",
              "2            Good                5               Good              1   \n",
              "3            Good               39               Good              2   \n",
              "4            Good               34               Good              0   \n",
              "\n",
              "  NO2 AQI Category  PM2.5 AQI Value PM2.5 AQI Category      lat      lng  \n",
              "0             Good               51           Moderate  44.7444  44.2031  \n",
              "1             Good               41               Good  -5.2900 -44.4900  \n",
              "2             Good               41               Good -11.2958 -41.9869  \n",
              "3             Good               66           Moderate  37.1667  15.1833  \n",
              "4             Good               20               Good  53.0167  20.8833  "
            ]
          },
          "execution_count": 259,
          "metadata": {},
          "output_type": "execute_result"
        }
      ],
      "source": [
        "df = pd.read_csv('AQI_dataset.csv')\n",
        "df.head()"
      ]
    },
    {
      "cell_type": "code",
      "execution_count": 260,
      "metadata": {
        "colab": {
          "base_uri": "https://localhost:8080/"
        },
        "id": "strl1aXQJInQ",
        "outputId": "4bdbeabe-c332-4932-e60c-aa79309e4034"
      },
      "outputs": [
        {
          "data": {
            "text/html": [
              "<div>\n",
              "<style scoped>\n",
              "    .dataframe tbody tr th:only-of-type {\n",
              "        vertical-align: middle;\n",
              "    }\n",
              "\n",
              "    .dataframe tbody tr th {\n",
              "        vertical-align: top;\n",
              "    }\n",
              "\n",
              "    .dataframe thead th {\n",
              "        text-align: right;\n",
              "    }\n",
              "</style>\n",
              "<table border=\"1\" class=\"dataframe\">\n",
              "  <thead>\n",
              "    <tr style=\"text-align: right;\">\n",
              "      <th></th>\n",
              "      <th>AQI Value</th>\n",
              "      <th>CO AQI Value</th>\n",
              "      <th>Ozone AQI Value</th>\n",
              "      <th>NO2 AQI Value</th>\n",
              "      <th>PM2.5 AQI Value</th>\n",
              "      <th>lat</th>\n",
              "      <th>lng</th>\n",
              "    </tr>\n",
              "  </thead>\n",
              "  <tbody>\n",
              "    <tr>\n",
              "      <th>count</th>\n",
              "      <td>16695.000000</td>\n",
              "      <td>16695.000000</td>\n",
              "      <td>16695.000000</td>\n",
              "      <td>16695.000000</td>\n",
              "      <td>16695.000000</td>\n",
              "      <td>16695.000000</td>\n",
              "      <td>16695.000000</td>\n",
              "    </tr>\n",
              "    <tr>\n",
              "      <th>mean</th>\n",
              "      <td>62.998682</td>\n",
              "      <td>1.342138</td>\n",
              "      <td>31.767355</td>\n",
              "      <td>3.819647</td>\n",
              "      <td>59.821324</td>\n",
              "      <td>30.267148</td>\n",
              "      <td>-3.944485</td>\n",
              "    </tr>\n",
              "    <tr>\n",
              "      <th>std</th>\n",
              "      <td>43.091971</td>\n",
              "      <td>2.371379</td>\n",
              "      <td>22.839343</td>\n",
              "      <td>5.880677</td>\n",
              "      <td>43.208298</td>\n",
              "      <td>22.947398</td>\n",
              "      <td>73.037148</td>\n",
              "    </tr>\n",
              "    <tr>\n",
              "      <th>min</th>\n",
              "      <td>7.000000</td>\n",
              "      <td>0.000000</td>\n",
              "      <td>0.000000</td>\n",
              "      <td>0.000000</td>\n",
              "      <td>0.000000</td>\n",
              "      <td>-54.801900</td>\n",
              "      <td>-171.750000</td>\n",
              "    </tr>\n",
              "    <tr>\n",
              "      <th>25%</th>\n",
              "      <td>38.500000</td>\n",
              "      <td>1.000000</td>\n",
              "      <td>20.000000</td>\n",
              "      <td>0.000000</td>\n",
              "      <td>34.000000</td>\n",
              "      <td>16.515450</td>\n",
              "      <td>-75.180000</td>\n",
              "    </tr>\n",
              "    <tr>\n",
              "      <th>50%</th>\n",
              "      <td>52.000000</td>\n",
              "      <td>1.000000</td>\n",
              "      <td>29.000000</td>\n",
              "      <td>2.000000</td>\n",
              "      <td>52.000000</td>\n",
              "      <td>38.815800</td>\n",
              "      <td>5.643100</td>\n",
              "    </tr>\n",
              "    <tr>\n",
              "      <th>75%</th>\n",
              "      <td>69.000000</td>\n",
              "      <td>1.000000</td>\n",
              "      <td>38.000000</td>\n",
              "      <td>5.000000</td>\n",
              "      <td>69.000000</td>\n",
              "      <td>46.683300</td>\n",
              "      <td>36.275000</td>\n",
              "    </tr>\n",
              "    <tr>\n",
              "      <th>max</th>\n",
              "      <td>500.000000</td>\n",
              "      <td>133.000000</td>\n",
              "      <td>222.000000</td>\n",
              "      <td>91.000000</td>\n",
              "      <td>500.000000</td>\n",
              "      <td>70.767000</td>\n",
              "      <td>178.017800</td>\n",
              "    </tr>\n",
              "  </tbody>\n",
              "</table>\n",
              "</div>"
            ],
            "text/plain": [
              "          AQI Value  CO AQI Value  Ozone AQI Value  NO2 AQI Value  \\\n",
              "count  16695.000000  16695.000000     16695.000000   16695.000000   \n",
              "mean      62.998682      1.342138        31.767355       3.819647   \n",
              "std       43.091971      2.371379        22.839343       5.880677   \n",
              "min        7.000000      0.000000         0.000000       0.000000   \n",
              "25%       38.500000      1.000000        20.000000       0.000000   \n",
              "50%       52.000000      1.000000        29.000000       2.000000   \n",
              "75%       69.000000      1.000000        38.000000       5.000000   \n",
              "max      500.000000    133.000000       222.000000      91.000000   \n",
              "\n",
              "       PM2.5 AQI Value           lat           lng  \n",
              "count     16695.000000  16695.000000  16695.000000  \n",
              "mean         59.821324     30.267148     -3.944485  \n",
              "std          43.208298     22.947398     73.037148  \n",
              "min           0.000000    -54.801900   -171.750000  \n",
              "25%          34.000000     16.515450    -75.180000  \n",
              "50%          52.000000     38.815800      5.643100  \n",
              "75%          69.000000     46.683300     36.275000  \n",
              "max         500.000000     70.767000    178.017800  "
            ]
          },
          "execution_count": 260,
          "metadata": {},
          "output_type": "execute_result"
        }
      ],
      "source": [
        "df.describe()"
      ]
    },
    {
      "cell_type": "markdown",
      "metadata": {},
      "source": [
        "Here we are `defining` the `columns of interest` for our Machine Learning models"
      ]
    },
    {
      "cell_type": "code",
      "execution_count": 261,
      "metadata": {
        "id": "tlR9zytUJInR"
      },
      "outputs": [],
      "source": [
        "learning_vars = ['PM2.5 AQI Value', 'NO2 AQI Value', 'Ozone AQI Value', 'CO AQI Value']\n",
        "target_classification = 'AQI Category'\n",
        "target_regression = 'AQI Value'\n",
        "fix_columns = ['PM2.5 AQI Value', 'NO2 AQI Value', 'Ozone AQI Value', 'CO AQI Value', 'AQI Value']"
      ]
    },
    {
      "cell_type": "markdown",
      "metadata": {},
      "source": [
        "# Data Clean up"
      ]
    },
    {
      "cell_type": "markdown",
      "metadata": {},
      "source": [
        "We are using `dropna()` since it provided us the best accuracy, and we `didn't lose out` on many datapoints that made much difference."
      ]
    },
    {
      "cell_type": "code",
      "execution_count": 262,
      "metadata": {
        "id": "aGM2uC9uJInR"
      },
      "outputs": [],
      "source": [
        "# imputer = SimpleImputer(strategy='mean')\n",
        "# df[fix_columns] = imputer.fit_transform(df[fix_columns])\n",
        "df = df.dropna()\n",
        "# knn_imputer = KNNImputer(n_neighbors=5) \n",
        "# df[fix_columns] = knn_imputer.fit_transform(df[fix_columns])"
      ]
    },
    {
      "cell_type": "code",
      "execution_count": 263,
      "metadata": {
        "colab": {
          "base_uri": "https://localhost:8080/",
          "height": 206
        },
        "id": "BD-EP_l0JInS",
        "outputId": "4244121a-f48e-4634-b6dc-02286b681b14"
      },
      "outputs": [
        {
          "data": {
            "text/html": [
              "<div>\n",
              "<style scoped>\n",
              "    .dataframe tbody tr th:only-of-type {\n",
              "        vertical-align: middle;\n",
              "    }\n",
              "\n",
              "    .dataframe tbody tr th {\n",
              "        vertical-align: top;\n",
              "    }\n",
              "\n",
              "    .dataframe thead th {\n",
              "        text-align: right;\n",
              "    }\n",
              "</style>\n",
              "<table border=\"1\" class=\"dataframe\">\n",
              "  <thead>\n",
              "    <tr style=\"text-align: right;\">\n",
              "      <th></th>\n",
              "      <th>Country</th>\n",
              "      <th>City</th>\n",
              "      <th>AQI Value</th>\n",
              "      <th>AQI Category</th>\n",
              "      <th>CO AQI Value</th>\n",
              "      <th>CO AQI Category</th>\n",
              "      <th>Ozone AQI Value</th>\n",
              "      <th>Ozone AQI Category</th>\n",
              "      <th>NO2 AQI Value</th>\n",
              "      <th>NO2 AQI Category</th>\n",
              "      <th>PM2.5 AQI Value</th>\n",
              "      <th>PM2.5 AQI Category</th>\n",
              "      <th>lat</th>\n",
              "      <th>lng</th>\n",
              "    </tr>\n",
              "  </thead>\n",
              "  <tbody>\n",
              "    <tr>\n",
              "      <th>0</th>\n",
              "      <td>Russian Federation</td>\n",
              "      <td>Praskoveya</td>\n",
              "      <td>51</td>\n",
              "      <td>Moderate</td>\n",
              "      <td>1</td>\n",
              "      <td>Good</td>\n",
              "      <td>36</td>\n",
              "      <td>Good</td>\n",
              "      <td>0</td>\n",
              "      <td>Good</td>\n",
              "      <td>51</td>\n",
              "      <td>Moderate</td>\n",
              "      <td>44.7444</td>\n",
              "      <td>44.2031</td>\n",
              "    </tr>\n",
              "    <tr>\n",
              "      <th>1</th>\n",
              "      <td>Brazil</td>\n",
              "      <td>Presidente Dutra</td>\n",
              "      <td>41</td>\n",
              "      <td>Good</td>\n",
              "      <td>1</td>\n",
              "      <td>Good</td>\n",
              "      <td>5</td>\n",
              "      <td>Good</td>\n",
              "      <td>1</td>\n",
              "      <td>Good</td>\n",
              "      <td>41</td>\n",
              "      <td>Good</td>\n",
              "      <td>-5.2900</td>\n",
              "      <td>-44.4900</td>\n",
              "    </tr>\n",
              "    <tr>\n",
              "      <th>2</th>\n",
              "      <td>Brazil</td>\n",
              "      <td>Presidente Dutra</td>\n",
              "      <td>41</td>\n",
              "      <td>Good</td>\n",
              "      <td>1</td>\n",
              "      <td>Good</td>\n",
              "      <td>5</td>\n",
              "      <td>Good</td>\n",
              "      <td>1</td>\n",
              "      <td>Good</td>\n",
              "      <td>41</td>\n",
              "      <td>Good</td>\n",
              "      <td>-11.2958</td>\n",
              "      <td>-41.9869</td>\n",
              "    </tr>\n",
              "    <tr>\n",
              "      <th>3</th>\n",
              "      <td>Italy</td>\n",
              "      <td>Priolo Gargallo</td>\n",
              "      <td>66</td>\n",
              "      <td>Moderate</td>\n",
              "      <td>1</td>\n",
              "      <td>Good</td>\n",
              "      <td>39</td>\n",
              "      <td>Good</td>\n",
              "      <td>2</td>\n",
              "      <td>Good</td>\n",
              "      <td>66</td>\n",
              "      <td>Moderate</td>\n",
              "      <td>37.1667</td>\n",
              "      <td>15.1833</td>\n",
              "    </tr>\n",
              "    <tr>\n",
              "      <th>4</th>\n",
              "      <td>Poland</td>\n",
              "      <td>Przasnysz</td>\n",
              "      <td>34</td>\n",
              "      <td>Good</td>\n",
              "      <td>1</td>\n",
              "      <td>Good</td>\n",
              "      <td>34</td>\n",
              "      <td>Good</td>\n",
              "      <td>0</td>\n",
              "      <td>Good</td>\n",
              "      <td>20</td>\n",
              "      <td>Good</td>\n",
              "      <td>53.0167</td>\n",
              "      <td>20.8833</td>\n",
              "    </tr>\n",
              "  </tbody>\n",
              "</table>\n",
              "</div>"
            ],
            "text/plain": [
              "              Country              City  AQI Value AQI Category  CO AQI Value  \\\n",
              "0  Russian Federation        Praskoveya         51     Moderate             1   \n",
              "1              Brazil  Presidente Dutra         41         Good             1   \n",
              "2              Brazil  Presidente Dutra         41         Good             1   \n",
              "3               Italy   Priolo Gargallo         66     Moderate             1   \n",
              "4              Poland         Przasnysz         34         Good             1   \n",
              "\n",
              "  CO AQI Category  Ozone AQI Value Ozone AQI Category  NO2 AQI Value  \\\n",
              "0            Good               36               Good              0   \n",
              "1            Good                5               Good              1   \n",
              "2            Good                5               Good              1   \n",
              "3            Good               39               Good              2   \n",
              "4            Good               34               Good              0   \n",
              "\n",
              "  NO2 AQI Category  PM2.5 AQI Value PM2.5 AQI Category      lat      lng  \n",
              "0             Good               51           Moderate  44.7444  44.2031  \n",
              "1             Good               41               Good  -5.2900 -44.4900  \n",
              "2             Good               41               Good -11.2958 -41.9869  \n",
              "3             Good               66           Moderate  37.1667  15.1833  \n",
              "4             Good               20               Good  53.0167  20.8833  "
            ]
          },
          "execution_count": 263,
          "metadata": {},
          "output_type": "execute_result"
        }
      ],
      "source": [
        "df.head()"
      ]
    },
    {
      "cell_type": "markdown",
      "metadata": {},
      "source": [
        "We make use of `LabelEncoder()` to make it easier for the models to learn data. Since `models perform better` with `number` than `words`, for classification, we encode each class with a numerical value."
      ]
    },
    {
      "cell_type": "code",
      "execution_count": 264,
      "metadata": {
        "id": "CaWDeX9CJInT"
      },
      "outputs": [],
      "source": [
        "label_encoder = LabelEncoder()\n",
        "df[target_classification] = label_encoder.fit_transform(df[target_classification])"
      ]
    },
    {
      "cell_type": "code",
      "execution_count": 265,
      "metadata": {
        "colab": {
          "base_uri": "https://localhost:8080/"
        },
        "id": "5UIzqvF-JInU",
        "outputId": "d2e8b85e-89b0-4076-aae1-c9644abe4ba9"
      },
      "outputs": [
        {
          "name": "stdout",
          "output_type": "stream",
          "text": [
            "<class 'pandas.core.frame.DataFrame'>\n",
            "Index: 16393 entries, 0 to 16694\n",
            "Data columns (total 14 columns):\n",
            " #   Column              Non-Null Count  Dtype  \n",
            "---  ------              --------------  -----  \n",
            " 0   Country             16393 non-null  object \n",
            " 1   City                16393 non-null  object \n",
            " 2   AQI Value           16393 non-null  int64  \n",
            " 3   AQI Category        16393 non-null  int64  \n",
            " 4   CO AQI Value        16393 non-null  int64  \n",
            " 5   CO AQI Category     16393 non-null  object \n",
            " 6   Ozone AQI Value     16393 non-null  int64  \n",
            " 7   Ozone AQI Category  16393 non-null  object \n",
            " 8   NO2 AQI Value       16393 non-null  int64  \n",
            " 9   NO2 AQI Category    16393 non-null  object \n",
            " 10  PM2.5 AQI Value     16393 non-null  int64  \n",
            " 11  PM2.5 AQI Category  16393 non-null  object \n",
            " 12  lat                 16393 non-null  float64\n",
            " 13  lng                 16393 non-null  float64\n",
            "dtypes: float64(2), int64(6), object(6)\n",
            "memory usage: 1.9+ MB\n"
          ]
        }
      ],
      "source": [
        "df.info()"
      ]
    },
    {
      "cell_type": "code",
      "execution_count": 266,
      "metadata": {},
      "outputs": [
        {
          "data": {
            "text/html": [
              "<div>\n",
              "<style scoped>\n",
              "    .dataframe tbody tr th:only-of-type {\n",
              "        vertical-align: middle;\n",
              "    }\n",
              "\n",
              "    .dataframe tbody tr th {\n",
              "        vertical-align: top;\n",
              "    }\n",
              "\n",
              "    .dataframe thead th {\n",
              "        text-align: right;\n",
              "    }\n",
              "</style>\n",
              "<table border=\"1\" class=\"dataframe\">\n",
              "  <thead>\n",
              "    <tr style=\"text-align: right;\">\n",
              "      <th></th>\n",
              "      <th>Country</th>\n",
              "      <th>City</th>\n",
              "      <th>AQI Value</th>\n",
              "      <th>AQI Category</th>\n",
              "      <th>CO AQI Value</th>\n",
              "      <th>CO AQI Category</th>\n",
              "      <th>Ozone AQI Value</th>\n",
              "      <th>Ozone AQI Category</th>\n",
              "      <th>NO2 AQI Value</th>\n",
              "      <th>NO2 AQI Category</th>\n",
              "      <th>PM2.5 AQI Value</th>\n",
              "      <th>PM2.5 AQI Category</th>\n",
              "      <th>lat</th>\n",
              "      <th>lng</th>\n",
              "    </tr>\n",
              "  </thead>\n",
              "  <tbody>\n",
              "    <tr>\n",
              "      <th>0</th>\n",
              "      <td>Russian Federation</td>\n",
              "      <td>Praskoveya</td>\n",
              "      <td>51</td>\n",
              "      <td>2</td>\n",
              "      <td>1</td>\n",
              "      <td>Good</td>\n",
              "      <td>36</td>\n",
              "      <td>Good</td>\n",
              "      <td>0</td>\n",
              "      <td>Good</td>\n",
              "      <td>51</td>\n",
              "      <td>Moderate</td>\n",
              "      <td>44.7444</td>\n",
              "      <td>44.2031</td>\n",
              "    </tr>\n",
              "    <tr>\n",
              "      <th>1</th>\n",
              "      <td>Brazil</td>\n",
              "      <td>Presidente Dutra</td>\n",
              "      <td>41</td>\n",
              "      <td>0</td>\n",
              "      <td>1</td>\n",
              "      <td>Good</td>\n",
              "      <td>5</td>\n",
              "      <td>Good</td>\n",
              "      <td>1</td>\n",
              "      <td>Good</td>\n",
              "      <td>41</td>\n",
              "      <td>Good</td>\n",
              "      <td>-5.2900</td>\n",
              "      <td>-44.4900</td>\n",
              "    </tr>\n",
              "    <tr>\n",
              "      <th>2</th>\n",
              "      <td>Brazil</td>\n",
              "      <td>Presidente Dutra</td>\n",
              "      <td>41</td>\n",
              "      <td>0</td>\n",
              "      <td>1</td>\n",
              "      <td>Good</td>\n",
              "      <td>5</td>\n",
              "      <td>Good</td>\n",
              "      <td>1</td>\n",
              "      <td>Good</td>\n",
              "      <td>41</td>\n",
              "      <td>Good</td>\n",
              "      <td>-11.2958</td>\n",
              "      <td>-41.9869</td>\n",
              "    </tr>\n",
              "    <tr>\n",
              "      <th>3</th>\n",
              "      <td>Italy</td>\n",
              "      <td>Priolo Gargallo</td>\n",
              "      <td>66</td>\n",
              "      <td>2</td>\n",
              "      <td>1</td>\n",
              "      <td>Good</td>\n",
              "      <td>39</td>\n",
              "      <td>Good</td>\n",
              "      <td>2</td>\n",
              "      <td>Good</td>\n",
              "      <td>66</td>\n",
              "      <td>Moderate</td>\n",
              "      <td>37.1667</td>\n",
              "      <td>15.1833</td>\n",
              "    </tr>\n",
              "    <tr>\n",
              "      <th>4</th>\n",
              "      <td>Poland</td>\n",
              "      <td>Przasnysz</td>\n",
              "      <td>34</td>\n",
              "      <td>0</td>\n",
              "      <td>1</td>\n",
              "      <td>Good</td>\n",
              "      <td>34</td>\n",
              "      <td>Good</td>\n",
              "      <td>0</td>\n",
              "      <td>Good</td>\n",
              "      <td>20</td>\n",
              "      <td>Good</td>\n",
              "      <td>53.0167</td>\n",
              "      <td>20.8833</td>\n",
              "    </tr>\n",
              "  </tbody>\n",
              "</table>\n",
              "</div>"
            ],
            "text/plain": [
              "              Country              City  AQI Value  AQI Category  \\\n",
              "0  Russian Federation        Praskoveya         51             2   \n",
              "1              Brazil  Presidente Dutra         41             0   \n",
              "2              Brazil  Presidente Dutra         41             0   \n",
              "3               Italy   Priolo Gargallo         66             2   \n",
              "4              Poland         Przasnysz         34             0   \n",
              "\n",
              "   CO AQI Value CO AQI Category  Ozone AQI Value Ozone AQI Category  \\\n",
              "0             1            Good               36               Good   \n",
              "1             1            Good                5               Good   \n",
              "2             1            Good                5               Good   \n",
              "3             1            Good               39               Good   \n",
              "4             1            Good               34               Good   \n",
              "\n",
              "   NO2 AQI Value NO2 AQI Category  PM2.5 AQI Value PM2.5 AQI Category  \\\n",
              "0              0             Good               51           Moderate   \n",
              "1              1             Good               41               Good   \n",
              "2              1             Good               41               Good   \n",
              "3              2             Good               66           Moderate   \n",
              "4              0             Good               20               Good   \n",
              "\n",
              "       lat      lng  \n",
              "0  44.7444  44.2031  \n",
              "1  -5.2900 -44.4900  \n",
              "2 -11.2958 -41.9869  \n",
              "3  37.1667  15.1833  \n",
              "4  53.0167  20.8833  "
            ]
          },
          "execution_count": 266,
          "metadata": {},
          "output_type": "execute_result"
        }
      ],
      "source": [
        "df.head()"
      ]
    },
    {
      "cell_type": "markdown",
      "metadata": {},
      "source": [
        "`Splitting` dataset into `train` and `test`. We will be using `80:20` ratio to perform the split."
      ]
    },
    {
      "cell_type": "code",
      "execution_count": 267,
      "metadata": {
        "id": "txj1SzMFJInV"
      },
      "outputs": [],
      "source": [
        "X = df[learning_vars]\n",
        "\n",
        "y_class = df[target_classification]\n",
        "y_reg = df[target_regression]\n",
        "\n",
        "X_train_class, X_test_class, y_train_class, y_test_class = train_test_split(X, y_class, test_size=0.2, random_state=0)\n",
        "X_train_reg, X_test_reg, y_train_reg, y_test_reg = train_test_split(X, y_reg, test_size=0.2, random_state=0)"
      ]
    },
    {
      "cell_type": "code",
      "execution_count": 268,
      "metadata": {},
      "outputs": [],
      "source": [
        "# smote = SMOTE(random_state=0)\n",
        "# X_train_class, y_train_class = smote.fit_resample(X_train_class, y_train_class)"
      ]
    },
    {
      "cell_type": "code",
      "execution_count": 269,
      "metadata": {},
      "outputs": [
        {
          "data": {
            "text/html": [
              "<div>\n",
              "<style scoped>\n",
              "    .dataframe tbody tr th:only-of-type {\n",
              "        vertical-align: middle;\n",
              "    }\n",
              "\n",
              "    .dataframe tbody tr th {\n",
              "        vertical-align: top;\n",
              "    }\n",
              "\n",
              "    .dataframe thead th {\n",
              "        text-align: right;\n",
              "    }\n",
              "</style>\n",
              "<table border=\"1\" class=\"dataframe\">\n",
              "  <thead>\n",
              "    <tr style=\"text-align: right;\">\n",
              "      <th></th>\n",
              "      <th>PM2.5 AQI Value</th>\n",
              "      <th>NO2 AQI Value</th>\n",
              "      <th>Ozone AQI Value</th>\n",
              "      <th>CO AQI Value</th>\n",
              "    </tr>\n",
              "  </thead>\n",
              "  <tbody>\n",
              "    <tr>\n",
              "      <th>0</th>\n",
              "      <td>51</td>\n",
              "      <td>0</td>\n",
              "      <td>36</td>\n",
              "      <td>1</td>\n",
              "    </tr>\n",
              "    <tr>\n",
              "      <th>1</th>\n",
              "      <td>41</td>\n",
              "      <td>1</td>\n",
              "      <td>5</td>\n",
              "      <td>1</td>\n",
              "    </tr>\n",
              "    <tr>\n",
              "      <th>2</th>\n",
              "      <td>41</td>\n",
              "      <td>1</td>\n",
              "      <td>5</td>\n",
              "      <td>1</td>\n",
              "    </tr>\n",
              "    <tr>\n",
              "      <th>3</th>\n",
              "      <td>66</td>\n",
              "      <td>2</td>\n",
              "      <td>39</td>\n",
              "      <td>1</td>\n",
              "    </tr>\n",
              "    <tr>\n",
              "      <th>4</th>\n",
              "      <td>20</td>\n",
              "      <td>0</td>\n",
              "      <td>34</td>\n",
              "      <td>1</td>\n",
              "    </tr>\n",
              "  </tbody>\n",
              "</table>\n",
              "</div>"
            ],
            "text/plain": [
              "   PM2.5 AQI Value  NO2 AQI Value  Ozone AQI Value  CO AQI Value\n",
              "0               51              0               36             1\n",
              "1               41              1                5             1\n",
              "2               41              1                5             1\n",
              "3               66              2               39             1\n",
              "4               20              0               34             1"
            ]
          },
          "execution_count": 269,
          "metadata": {},
          "output_type": "execute_result"
        }
      ],
      "source": [
        "X.head()"
      ]
    },
    {
      "cell_type": "code",
      "execution_count": 270,
      "metadata": {
        "id": "MiYVzdZmJInW"
      },
      "outputs": [],
      "source": [
        "scaler = StandardScaler()\n",
        "X_train_class = scaler.fit_transform(X_train_class)\n",
        "X_test_class = scaler.transform(X_test_class)\n",
        "X_train_reg = scaler.fit_transform(X_train_reg)\n",
        "X_test_reg = scaler.transform(X_test_reg)"
      ]
    },
    {
      "cell_type": "code",
      "execution_count": 271,
      "metadata": {
        "colab": {
          "base_uri": "https://localhost:8080/"
        },
        "id": "fTGNIxiNJInW",
        "outputId": "e2ac7615-8b98-4a90-9e8f-ad6ec5f14e42"
      },
      "outputs": [
        {
          "name": "stdout",
          "output_type": "stream",
          "text": [
            "Logistic Regression Classification Report:\n",
            "              precision    recall  f1-score   support\n",
            "\n",
            "           0       0.95      0.94      0.95      1479\n",
            "           1       0.90      0.75      0.82        12\n",
            "           2       0.93      0.94      0.94      1386\n",
            "           3       0.87      0.98      0.92       187\n",
            "           4       0.96      0.84      0.89       187\n",
            "           5       0.79      0.54      0.64        28\n",
            "\n",
            "    accuracy                           0.94      3279\n",
            "   macro avg       0.90      0.83      0.86      3279\n",
            "weighted avg       0.94      0.94      0.93      3279\n",
            "\n"
          ]
        }
      ],
      "source": [
        "logistic_model = LogisticRegression(max_iter=2000)\n",
        "logistic_model.fit(X_train_class, y_train_class)\n",
        "y_pred_class_logistic = logistic_model.predict(X_test_class)\n",
        "print(\"Logistic Regression Classification Report:\")\n",
        "print(classification_report(y_test_class, y_pred_class_logistic, zero_division=1))"
      ]
    },
    {
      "cell_type": "code",
      "execution_count": 272,
      "metadata": {
        "colab": {
          "base_uri": "https://localhost:8080/"
        },
        "id": "c-7bA0ovK_pb",
        "outputId": "26575f17-b7a2-4838-d306-da3105e39b35"
      },
      "outputs": [
        {
          "name": "stdout",
          "output_type": "stream",
          "text": [
            "Decision Tree Classification Report:\n",
            "              precision    recall  f1-score   support\n",
            "\n",
            "           0       1.00      1.00      1.00      1479\n",
            "           1       1.00      0.92      0.96        12\n",
            "           2       1.00      1.00      1.00      1386\n",
            "           3       1.00      0.99      0.99       187\n",
            "           4       0.99      1.00      0.99       187\n",
            "           5       0.97      1.00      0.98        28\n",
            "\n",
            "    accuracy                           1.00      3279\n",
            "   macro avg       0.99      0.98      0.99      3279\n",
            "weighted avg       1.00      1.00      1.00      3279\n",
            "\n"
          ]
        }
      ],
      "source": [
        "dtree_classifier = DecisionTreeClassifier(random_state=0,max_depth=7,min_samples_split=70)\n",
        "dtree_classifier.fit(X_train_class, y_train_class)\n",
        "y_pred_class_dtree=dtree_classifier.predict(X_test_class)\n",
        "print(\"Decision Tree Classification Report:\")\n",
        "print(classification_report(y_test_class, y_pred_class_dtree, zero_division=0))"
      ]
    },
    {
      "cell_type": "code",
      "execution_count": 273,
      "metadata": {
        "colab": {
          "base_uri": "https://localhost:8080/"
        },
        "id": "oS_Tze4sNVgM",
        "outputId": "d489e330-29df-42c7-e367-efd9f2076973"
      },
      "outputs": [
        {
          "name": "stdout",
          "output_type": "stream",
          "text": [
            "Decision Tree Regression Metrics:\n",
            "MSE: 43.28609663066803\n",
            "R2 Score: 0.9772954732691793\n"
          ]
        }
      ],
      "source": [
        "dtree_regressor = DecisionTreeRegressor(random_state=0,max_depth=10,min_samples_leaf=3,min_samples_split=90)\n",
        "dtree_regressor.fit(X_train_reg, y_train_reg)\n",
        "y_pred_reg_dt=dtree_regressor.predict(X_test_reg)\n",
        "print(\"Decision Tree Regression Metrics:\")\n",
        "print(\"MSE:\", mean_squared_error(y_test_reg, y_pred_reg_dt))\n",
        "print(\"R2 Score:\", r2_score(y_test_reg, y_pred_reg_dt))"
      ]
    },
    {
      "cell_type": "code",
      "execution_count": 274,
      "metadata": {
        "colab": {
          "base_uri": "https://localhost:8080/"
        },
        "id": "S4LjZyffJInX",
        "outputId": "5805a8d8-0f7e-433f-dac4-d24b8cb8fbee"
      },
      "outputs": [
        {
          "name": "stdout",
          "output_type": "stream",
          "text": [
            "Random Forest Classification Report:\n",
            "              precision    recall  f1-score   support\n",
            "\n",
            "           0       1.00      1.00      1.00      1479\n",
            "           1       1.00      0.92      0.96        12\n",
            "           2       1.00      1.00      1.00      1386\n",
            "           3       0.99      0.99      0.99       187\n",
            "           4       1.00      0.99      1.00       187\n",
            "           5       0.93      1.00      0.97        28\n",
            "\n",
            "    accuracy                           1.00      3279\n",
            "   macro avg       0.99      0.98      0.99      3279\n",
            "weighted avg       1.00      1.00      1.00      3279\n",
            "\n"
          ]
        }
      ],
      "source": [
        "rf_classifier = RandomForestClassifier(n_estimators=100, random_state=0)\n",
        "rf_classifier.fit(X_train_class, y_train_class)\n",
        "y_pred_class_rf = rf_classifier.predict(X_test_class)\n",
        "print(\"Random Forest Classification Report:\")\n",
        "print(classification_report(y_test_class, y_pred_class_rf, zero_division=1))"
      ]
    },
    {
      "cell_type": "code",
      "execution_count": 275,
      "metadata": {
        "colab": {
          "base_uri": "https://localhost:8080/"
        },
        "id": "hi6y0rGuJInX",
        "outputId": "5edd9dbe-ec61-4434-ebbb-07ae0061295b"
      },
      "outputs": [
        {
          "name": "stdout",
          "output_type": "stream",
          "text": [
            "Random Forest Regression Metrics:\n",
            "MSE: 3.6444213784690436\n",
            "R2 Score: 0.9980884193991472\n"
          ]
        }
      ],
      "source": [
        "rf_regressor = RandomForestRegressor(n_estimators=100, random_state=42)\n",
        "rf_regressor.fit(X_train_reg, y_train_reg)\n",
        "y_pred_reg_rf = rf_regressor.predict(X_test_reg)\n",
        "print(\"Random Forest Regression Metrics:\")\n",
        "print(\"MSE:\", mean_squared_error(y_test_reg, y_pred_reg_rf))\n",
        "print(\"R2 Score:\", r2_score(y_test_reg, y_pred_reg_rf))"
      ]
    },
    {
      "cell_type": "code",
      "execution_count": 276,
      "metadata": {
        "colab": {
          "base_uri": "https://localhost:8080/"
        },
        "id": "sef4OMlBOTzl",
        "outputId": "7dc6c7e5-f555-4fdf-e32c-ed6e431992b4"
      },
      "outputs": [
        {
          "name": "stdout",
          "output_type": "stream",
          "text": [
            "XGBoost Classification Report:\n",
            "              precision    recall  f1-score   support\n",
            "\n",
            "           0       1.00      1.00      1.00      1479\n",
            "           1       0.79      0.92      0.85        12\n",
            "           2       1.00      1.00      1.00      1386\n",
            "           3       0.97      0.96      0.96       187\n",
            "           4       0.99      0.99      0.99       187\n",
            "           5       0.76      0.79      0.77        28\n",
            "\n",
            "    accuracy                           0.99      3279\n",
            "   macro avg       0.92      0.94      0.93      3279\n",
            "weighted avg       0.99      0.99      0.99      3279\n",
            "\n"
          ]
        }
      ],
      "source": [
        "xgb_classifier = xgb.XGBClassifier(random_state=0,max_depth=10,learning_rate=0.1,n_estimators= 100)\n",
        "xgb_classifier.fit(X_train_class, y_train_class)\n",
        "y_pred_class_xgb=xgb_classifier.predict(X_test_class)\n",
        "print(\"XGBoost Classification Report:\")\n",
        "print(classification_report(y_test_class, y_pred_class_xgb))"
      ]
    },
    {
      "cell_type": "code",
      "execution_count": 277,
      "metadata": {
        "colab": {
          "base_uri": "https://localhost:8080/"
        },
        "id": "ubac3EHnPxHZ",
        "outputId": "652e746c-31c2-469d-aa4b-9571320775ca"
      },
      "outputs": [
        {
          "name": "stdout",
          "output_type": "stream",
          "text": [
            "XGBoost Regression Metrics:\n",
            "MSE: 29.3255935050691\n",
            "R2 Score: 0.984618067741394\n"
          ]
        }
      ],
      "source": [
        "xgb_regressor = xgb.XGBRegressor(random_state=0,max_depth=5,n_estimators= 100)\n",
        "xgb_regressor.fit(X_train_reg, y_train_reg)\n",
        "y_pred_reg_xgb=xgb_regressor.predict(X_test_reg)\n",
        "print(\"XGBoost Regression Metrics:\")\n",
        "print(\"MSE:\", mean_squared_error(y_test_reg, y_pred_reg_xgb))\n",
        "print(\"R2 Score:\", r2_score(y_test_reg, y_pred_reg_xgb))"
      ]
    },
    {
      "cell_type": "code",
      "execution_count": 278,
      "metadata": {
        "colab": {
          "base_uri": "https://localhost:8080/"
        },
        "id": "yzfLx_icJInY",
        "outputId": "36d55028-68fd-48d5-a0a9-9d363965314c"
      },
      "outputs": [
        {
          "name": "stdout",
          "output_type": "stream",
          "text": [
            "MLP Classification Report:\n",
            "              precision    recall  f1-score   support\n",
            "\n",
            "           0       1.00      1.00      1.00      1479\n",
            "           1       0.85      0.92      0.88        12\n",
            "           2       1.00      0.99      1.00      1386\n",
            "           3       0.95      0.99      0.97       187\n",
            "           4       0.96      0.97      0.96       187\n",
            "           5       0.88      0.79      0.83        28\n",
            "\n",
            "    accuracy                           0.99      3279\n",
            "   macro avg       0.94      0.94      0.94      3279\n",
            "weighted avg       0.99      0.99      0.99      3279\n",
            "\n"
          ]
        }
      ],
      "source": [
        "mlp_classifier = MLPClassifier(hidden_layer_sizes=(100, 50), max_iter=1000, random_state=42)\n",
        "mlp_classifier.fit(X_train_class, y_train_class)\n",
        "y_pred_class_mlp = mlp_classifier.predict(X_test_class)\n",
        "print(\"MLP Classification Report:\")\n",
        "print(classification_report(y_test_class, y_pred_class_mlp, zero_division=1))"
      ]
    },
    {
      "cell_type": "code",
      "execution_count": 279,
      "metadata": {
        "colab": {
          "base_uri": "https://localhost:8080/"
        },
        "id": "AHuzcu-bJInY",
        "outputId": "44ebc19a-7c71-4e16-ad92-e11298a51544"
      },
      "outputs": [
        {
          "name": "stdout",
          "output_type": "stream",
          "text": [
            "MLP Regression Metrics:\n",
            "MSE: 5.408030823180654\n",
            "R2 Score: 0.9971633667633821\n"
          ]
        }
      ],
      "source": [
        "mlp_regressor = MLPRegressor(hidden_layer_sizes=(100, 50), max_iter=300, random_state=42)\n",
        "mlp_regressor.fit(X_train_reg, y_train_reg)\n",
        "y_pred_reg_mlp = mlp_regressor.predict(X_test_reg)\n",
        "print(\"MLP Regression Metrics:\")\n",
        "print(\"MSE:\", mean_squared_error(y_test_reg, y_pred_reg_mlp))\n",
        "print(\"R2 Score:\", r2_score(y_test_reg, y_pred_reg_mlp))"
      ]
    },
    {
      "cell_type": "code",
      "execution_count": 280,
      "metadata": {
        "colab": {
          "base_uri": "https://localhost:8080/"
        },
        "id": "oqpbzK36JInY",
        "outputId": "4efc781c-44eb-4ac5-a435-1b0054484158"
      },
      "outputs": [
        {
          "name": "stdout",
          "output_type": "stream",
          "text": [
            "MLP Dual Prediction Metrics:\n",
            "MSE (AQI_Bucket): 0.23110280254635465\n",
            "MSE (AQI): 4.5222558923905085\n"
          ]
        }
      ],
      "source": [
        "y_dual = df[[target_classification, target_regression]]\n",
        "X_train_dual, X_test_dual, y_train_dual, y_test_dual = train_test_split(X, y_dual, test_size=0.2, random_state=42)\n",
        "\n",
        "X_train_dual = scaler.fit_transform(X_train_dual)\n",
        "X_test_dual = scaler.transform(X_test_dual)\n",
        "\n",
        "mlp_dual = MLPRegressor(hidden_layer_sizes=(100, 50), max_iter=1000, random_state=42)\n",
        "mlp_dual.fit(X_train_dual, y_train_dual)\n",
        "y_pred_dual = mlp_dual.predict(X_test_dual)\n",
        "\n",
        "print(\"MLP Dual Prediction Metrics:\")\n",
        "print(\"MSE (AQI_Bucket):\", mean_squared_error(y_test_dual[target_classification], y_pred_dual[:, 0]))\n",
        "print(\"MSE (AQI):\", mean_squared_error(y_test_dual[target_regression], y_pred_dual[:, 1]))"
      ]
    },
    {
      "cell_type": "code",
      "execution_count": 281,
      "metadata": {
        "colab": {
          "base_uri": "https://localhost:8080/"
        },
        "id": "hlAkfe-MJInZ",
        "outputId": "9b30fa81-2d8f-4076-f6b7-0221d0d658e4"
      },
      "outputs": [
        {
          "data": {
            "text/plain": [
              "['label_encoder.pkl']"
            ]
          },
          "execution_count": 281,
          "metadata": {},
          "output_type": "execute_result"
        }
      ],
      "source": [
        "joblib.dump(logistic_model, 'logistic_model.pkl')\n",
        "joblib.dump(dtree_classifier,'dtree_classifier.pkl')\n",
        "joblib.dump(dtree_regressor,'dtree_regressor.pkl')\n",
        "joblib.dump(rf_classifier, 'rf_classifier.pkl')\n",
        "joblib.dump(rf_regressor, 'rf_regressor.pkl')\n",
        "joblib.dump(xgb_classifier,'xgb_classifier.pkl')\n",
        "joblib.dump(xgb_regressor,'xgb_regressor.pkl')\n",
        "joblib.dump(mlp_classifier, 'mlp_classifier.pkl')\n",
        "joblib.dump(mlp_regressor, 'mlp_regressor.pkl')\n",
        "joblib.dump(mlp_dual, 'mlp_dual.pkl')\n",
        "joblib.dump(scaler, 'scaler.pkl')\n",
        "joblib.dump(label_encoder, 'label_encoder.pkl')"
      ]
    },
    {
      "cell_type": "code",
      "execution_count": 282,
      "metadata": {
        "id": "dZdEr5hWJInZ"
      },
      "outputs": [],
      "source": [
        "def predict_models(x_new_test):\n",
        "    # Load models and scaler\n",
        "    logistic_model = joblib.load('logistic_model.pkl')\n",
        "    dtree_classifier = joblib.load('dtree_classifier.pkl')\n",
        "    dtree_regressor = joblib.load('dtree_regressor.pkl')\n",
        "    rf_classifier = joblib.load('rf_classifier.pkl')\n",
        "    rf_regressor = joblib.load('rf_regressor.pkl')\n",
        "    xgb_classifier = joblib.load('xgb_classifier.pkl')\n",
        "    xgb_regressor = joblib.load('xgb_regressor.pkl')\n",
        "    mlp_classifier = joblib.load('mlp_classifier.pkl')\n",
        "    mlp_regressor = joblib.load('mlp_regressor.pkl')\n",
        "    mlp_dual = joblib.load('mlp_dual.pkl')\n",
        "    scaler = joblib.load('scaler.pkl')\n",
        "    label_encoder = joblib.load('label_encoder.pkl')\n",
        "\n",
        "    # Scale the custom data\n",
        "    x_new_test_scaled = scaler.transform(x_new_test)\n",
        "\n",
        "    # Make predictions\n",
        "    logistic_pred = logistic_model.predict(x_new_test_scaled)\n",
        "    logistic_label = label_encoder.inverse_transform(logistic_pred)\n",
        "\n",
        "    dtree_class_pred = dtree_classifier.predict(x_new_test_scaled)\n",
        "    dtree_class_label = label_encoder.inverse_transform(dtree_class_pred)\n",
        "\n",
        "    dtree_reg_pred = dtree_regressor.predict(x_new_test_scaled)\n",
        "\n",
        "    rf_class_pred = rf_classifier.predict(x_new_test_scaled)\n",
        "    rf_class_label = label_encoder.inverse_transform(rf_class_pred)\n",
        "\n",
        "    rf_reg_pred = rf_regressor.predict(x_new_test_scaled)\n",
        "\n",
        "    xgb_class_pred = xgb_classifier.predict(x_new_test_scaled)\n",
        "    xgb_class_label = label_encoder.inverse_transform(xgb_class_pred)\n",
        "\n",
        "    xgb_reg_pred = xgb_regressor.predict(x_new_test_scaled)\n",
        "\n",
        "    mlp_class_pred = mlp_classifier.predict(x_new_test_scaled)\n",
        "    mlp_class_label = label_encoder.inverse_transform(mlp_class_pred)\n",
        "\n",
        "    mlp_reg_pred = mlp_regressor.predict(x_new_test_scaled)\n",
        "\n",
        "    mlp_dual_pred = mlp_dual.predict(x_new_test_scaled)\n",
        "    mlp_dual_class_label = label_encoder.inverse_transform(mlp_dual_pred[:, 0].astype(int))\n",
        "    mlp_dual_reg_pred = mlp_dual_pred[:, 1]\n",
        "\n",
        "    # Print predictions\n",
        "    print(\"Logistic Regression Prediction:\", logistic_label)\n",
        "    print(\"Decison Tree Classification Prediction:\", dtree_class_label)\n",
        "    print(\"Decision Tree Regression Prediction:\", dtree_reg_pred)\n",
        "    print(\"Random Forest Classification Prediction:\", rf_class_label)\n",
        "    print(\"Random Forest Regression Prediction:\", rf_reg_pred)\n",
        "    print(\"XGBoost Classification Prediction:\", xgb_class_label)\n",
        "    print(\"XGBoost Regression Prediction:\", xgb_reg_pred)\n",
        "    print(\"MLP Classification Prediction:\", mlp_class_label)\n",
        "    print(\"MLP Regression Prediction:\", mlp_reg_pred)\n",
        "    print(\"MLP Dual Prediction - Classification Label:\", mlp_dual_class_label)\n",
        "    print(\"MLP Dual Prediction - Regression Value:\", mlp_dual_reg_pred)\n"
      ]
    },
    {
      "cell_type": "markdown",
      "metadata": {},
      "source": [
        "# Testing with real-world data from Accuweather"
      ]
    },
    {
      "cell_type": "markdown",
      "metadata": {},
      "source": [
        "### October 20, 2024"
      ]
    },
    {
      "cell_type": "code",
      "execution_count": 283,
      "metadata": {},
      "outputs": [],
      "source": [
        "test_data_mangalore = {\n",
        "    'PM2.5 AQI Value': [41],\n",
        "    'NO2 AQI Value': [26],\n",
        "    'Ozone AQI Value': [4],\n",
        "    'CO AQI Value': [3]\n",
        "}\n",
        "\n",
        "mangalore_test = pd.DataFrame(test_data_mangalore)"
      ]
    },
    {
      "cell_type": "code",
      "execution_count": 284,
      "metadata": {
        "id": "BRR1eXQPJInZ"
      },
      "outputs": [],
      "source": [
        "test_data_kolkata = {\n",
        "    'PM2.5 AQI Value': [180],\n",
        "    'NO2 AQI Value': [54],\n",
        "    'Ozone AQI Value': [1],\n",
        "    'CO AQI Value': [7]\n",
        "}\n",
        "kolkata_test = pd.DataFrame(test_data_kolkata)"
      ]
    },
    {
      "cell_type": "code",
      "execution_count": 285,
      "metadata": {
        "colab": {
          "base_uri": "https://localhost:8080/"
        },
        "id": "6BMUANymJInZ",
        "outputId": "c93200ba-b910-4ecb-f728-67a1b5f5ba42"
      },
      "outputs": [
        {
          "name": "stdout",
          "output_type": "stream",
          "text": [
            "Logistic Regression Prediction: ['Good']\n",
            "Decison Tree Classification Prediction: ['Good']\n",
            "Decision Tree Regression Prediction: [41.]\n",
            "Random Forest Classification Prediction: ['Good']\n",
            "Random Forest Regression Prediction: [41.]\n",
            "XGBoost Classification Prediction: ['Good']\n",
            "XGBoost Regression Prediction: [39.82113]\n",
            "MLP Classification Prediction: ['Good']\n",
            "MLP Regression Prediction: [42.76564618]\n",
            "MLP Dual Prediction - Classification Label: ['Good']\n",
            "MLP Dual Prediction - Regression Value: [43.49993401]\n"
          ]
        }
      ],
      "source": [
        "predict_models(mangalore_test)"
      ]
    },
    {
      "cell_type": "code",
      "execution_count": 286,
      "metadata": {},
      "outputs": [
        {
          "name": "stdout",
          "output_type": "stream",
          "text": [
            "Logistic Regression Prediction: ['Unhealthy']\n",
            "Decison Tree Classification Prediction: ['Unhealthy']\n",
            "Decision Tree Regression Prediction: [183.48837209]\n",
            "Random Forest Classification Prediction: ['Unhealthy']\n",
            "Random Forest Regression Prediction: [179.2]\n",
            "XGBoost Classification Prediction: ['Unhealthy']\n",
            "XGBoost Regression Prediction: [165.11871]\n",
            "MLP Classification Prediction: ['Unhealthy']\n",
            "MLP Regression Prediction: [180.05516051]\n",
            "MLP Dual Prediction - Classification Label: ['Unhealthy for Sensitive Groups']\n",
            "MLP Dual Prediction - Regression Value: [180.15520791]\n"
          ]
        }
      ],
      "source": [
        "predict_models(kolkata_test)"
      ]
    },
    {
      "cell_type": "code",
      "execution_count": null,
      "metadata": {},
      "outputs": [],
      "source": []
    }
  ],
  "metadata": {
    "accelerator": "GPU",
    "colab": {
      "gpuType": "T4",
      "include_colab_link": true,
      "provenance": []
    },
    "kernelspec": {
      "display_name": ".venv",
      "language": "python",
      "name": "python3"
    },
    "language_info": {
      "codemirror_mode": {
        "name": "ipython",
        "version": 3
      },
      "file_extension": ".py",
      "mimetype": "text/x-python",
      "name": "python",
      "nbconvert_exporter": "python",
      "pygments_lexer": "ipython3",
      "version": "3.12.7"
    }
  },
  "nbformat": 4,
  "nbformat_minor": 0
}
